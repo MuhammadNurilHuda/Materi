{
  "nbformat": 4,
  "nbformat_minor": 0,
  "metadata": {
    "colab": {
      "name": "Vektorisasi Kata dan TF-IDF.ipynb",
      "provenance": [],
      "collapsed_sections": [],
      "include_colab_link": true
    },
    "kernelspec": {
      "name": "python3",
      "display_name": "Python 3"
    },
    "language_info": {
      "name": "python"
    }
  },
  "cells": [
    {
      "cell_type": "markdown",
      "metadata": {
        "id": "view-in-github",
        "colab_type": "text"
      },
      "source": [
        "<a href=\"https://colab.research.google.com/github/MuhammadNurilHuda/Materi/blob/main/Vektorisasi_Kata_dan_TF_IDF.ipynb\" target=\"_parent\"><img src=\"https://colab.research.google.com/assets/colab-badge.svg\" alt=\"Open In Colab\"/></a>"
      ]
    },
    {
      "cell_type": "code",
      "metadata": {
        "id": "RP6hW8NDVzaI"
      },
      "source": [
        "# Import Library yang dibutuhkan\n",
        "\n",
        "import nltk\n",
        "from nltk.tokenize import word_tokenize\n",
        "from gensim.models import Word2Vec\n",
        "import re"
      ],
      "execution_count": 1,
      "outputs": []
    },
    {
      "cell_type": "code",
      "metadata": {
        "colab": {
          "base_uri": "https://localhost:8080/"
        },
        "id": "gKe7ZPUfmjYA",
        "outputId": "7c99b569-53bb-4102-a955-36b79ec58afd"
      },
      "source": [
        "nltk.download('punkt')"
      ],
      "execution_count": 2,
      "outputs": [
        {
          "output_type": "stream",
          "name": "stdout",
          "text": [
            "[nltk_data] Downloading package punkt to /root/nltk_data...\n",
            "[nltk_data]   Unzipping tokenizers/punkt.zip.\n"
          ]
        },
        {
          "output_type": "execute_result",
          "data": {
            "text/plain": [
              "True"
            ]
          },
          "metadata": {},
          "execution_count": 2
        }
      ]
    },
    {
      "cell_type": "code",
      "metadata": {
        "id": "rmfhSdxekrEh"
      },
      "source": [
        "komentar = [\n",
        "          \"Pengiriman cepat, kualitas produk baik, penjual ramah\",\n",
        "          \"Produk tidak sesuai gambar, tapi memang sesuai harga\",\n",
        "          \"penjual responsif dan ramah, produk berfungsi dengan baik\",\n",
        "          \"Lumayan untuk harga segini sudah dapat produk bagus\",\n",
        "          \"Tidak sesuai ekspektasi, produk berbeda dengan gambar\",\n",
        "          \"Sejauh ini yaaa lumayan sih, tidak berkespektasi tinggi, sesuai lah sama harga, tengkyuu\",\n",
        "          \"Barang cepat sampai dan sesuai pesanan Packing rapi dan harga recommended\",\n",
        "          \"Barang sdh diterima..packing aman...sampainya cepet...jenis dan jumlahnya sesuai pesenan..makase yah\",\n",
        "          \"seller ramah, tapi di pengirimanya lama\",\n",
        "          \"realpic,barang sesuai pesenan..terimakasih seller,sukses terus..\",\n",
        "          \"Barang bagus aku sering beli produk ini..yamagata okeee..\",\n",
        "          \"seller gak responsif, ga sesuai gambar\",\n",
        "          \"barang ok, kualitas ok\",\n",
        "          \"harga sesuai sama barangnya, not bad lah\",\n",
        "          \"wajar sih ada harga, ada barang\",\n",
        "          \"mantap, kualitas ok sesuai pic\",\n",
        "          \"recommended pokoknya\",\n",
        "          \"kualitas ok, seller ramah, pengiriman cepat\",\n",
        "          \"toko nya gak recommended, seller kurang responsif\",\n",
        "          \"ok barangnya, recommended sellernya\"\n",
        "\n",
        "\n",
        "]"
      ],
      "execution_count": 3,
      "outputs": []
    },
    {
      "cell_type": "code",
      "metadata": {
        "colab": {
          "base_uri": "https://localhost:8080/"
        },
        "id": "QX4OeAmEmsdL",
        "outputId": "7898855c-d8d4-4772-cc0c-2cd038f1842b"
      },
      "source": [
        "komentar = [re.sub(r'[,.]', '', k) for k in komentar]\n",
        "komentar"
      ],
      "execution_count": 4,
      "outputs": [
        {
          "output_type": "execute_result",
          "data": {
            "text/plain": [
              "['Pengiriman cepat kualitas produk baik penjual ramah',\n",
              " 'Produk tidak sesuai gambar tapi memang sesuai harga',\n",
              " 'penjual responsif dan ramah produk berfungsi dengan baik',\n",
              " 'Lumayan untuk harga segini sudah dapat produk bagus',\n",
              " 'Tidak sesuai ekspektasi produk berbeda dengan gambar',\n",
              " 'Sejauh ini yaaa lumayan sih tidak berkespektasi tinggi sesuai lah sama harga tengkyuu',\n",
              " 'Barang cepat sampai dan sesuai pesanan Packing rapi dan harga recommended',\n",
              " 'Barang sdh diterimapacking amansampainya cepetjenis dan jumlahnya sesuai pesenanmakase yah',\n",
              " 'seller ramah tapi di pengirimanya lama',\n",
              " 'realpicbarang sesuai pesenanterimakasih sellersukses terus',\n",
              " 'Barang bagus aku sering beli produk iniyamagata okeee',\n",
              " 'seller gak responsif ga sesuai gambar',\n",
              " 'barang ok kualitas ok',\n",
              " 'harga sesuai sama barangnya not bad lah',\n",
              " 'wajar sih ada harga ada barang',\n",
              " 'mantap kualitas ok sesuai pic',\n",
              " 'recommended pokoknya',\n",
              " 'kualitas ok seller ramah pengiriman cepat',\n",
              " 'toko nya gak recommended seller kurang responsif',\n",
              " 'ok barangnya recommended sellernya']"
            ]
          },
          "metadata": {},
          "execution_count": 4
        }
      ]
    },
    {
      "cell_type": "code",
      "metadata": {
        "colab": {
          "base_uri": "https://localhost:8080/"
        },
        "id": "KJPae-LBmH3N",
        "outputId": "79b9dd00-d54e-4be8-fb0c-9ede33aab271"
      },
      "source": [
        "corpus = [word_tokenize(k.lower()) for k in komentar]\n",
        "corpus"
      ],
      "execution_count": 5,
      "outputs": [
        {
          "output_type": "execute_result",
          "data": {
            "text/plain": [
              "[['pengiriman', 'cepat', 'kualitas', 'produk', 'baik', 'penjual', 'ramah'],\n",
              " ['produk', 'tidak', 'sesuai', 'gambar', 'tapi', 'memang', 'sesuai', 'harga'],\n",
              " ['penjual',\n",
              "  'responsif',\n",
              "  'dan',\n",
              "  'ramah',\n",
              "  'produk',\n",
              "  'berfungsi',\n",
              "  'dengan',\n",
              "  'baik'],\n",
              " ['lumayan', 'untuk', 'harga', 'segini', 'sudah', 'dapat', 'produk', 'bagus'],\n",
              " ['tidak', 'sesuai', 'ekspektasi', 'produk', 'berbeda', 'dengan', 'gambar'],\n",
              " ['sejauh',\n",
              "  'ini',\n",
              "  'yaaa',\n",
              "  'lumayan',\n",
              "  'sih',\n",
              "  'tidak',\n",
              "  'berkespektasi',\n",
              "  'tinggi',\n",
              "  'sesuai',\n",
              "  'lah',\n",
              "  'sama',\n",
              "  'harga',\n",
              "  'tengkyuu'],\n",
              " ['barang',\n",
              "  'cepat',\n",
              "  'sampai',\n",
              "  'dan',\n",
              "  'sesuai',\n",
              "  'pesanan',\n",
              "  'packing',\n",
              "  'rapi',\n",
              "  'dan',\n",
              "  'harga',\n",
              "  'recommended'],\n",
              " ['barang',\n",
              "  'sdh',\n",
              "  'diterimapacking',\n",
              "  'amansampainya',\n",
              "  'cepetjenis',\n",
              "  'dan',\n",
              "  'jumlahnya',\n",
              "  'sesuai',\n",
              "  'pesenanmakase',\n",
              "  'yah'],\n",
              " ['seller', 'ramah', 'tapi', 'di', 'pengirimanya', 'lama'],\n",
              " ['realpicbarang', 'sesuai', 'pesenanterimakasih', 'sellersukses', 'terus'],\n",
              " ['barang',\n",
              "  'bagus',\n",
              "  'aku',\n",
              "  'sering',\n",
              "  'beli',\n",
              "  'produk',\n",
              "  'iniyamagata',\n",
              "  'okeee'],\n",
              " ['seller', 'gak', 'responsif', 'ga', 'sesuai', 'gambar'],\n",
              " ['barang', 'ok', 'kualitas', 'ok'],\n",
              " ['harga', 'sesuai', 'sama', 'barangnya', 'not', 'bad', 'lah'],\n",
              " ['wajar', 'sih', 'ada', 'harga', 'ada', 'barang'],\n",
              " ['mantap', 'kualitas', 'ok', 'sesuai', 'pic'],\n",
              " ['recommended', 'pokoknya'],\n",
              " ['kualitas', 'ok', 'seller', 'ramah', 'pengiriman', 'cepat'],\n",
              " ['toko', 'nya', 'gak', 'recommended', 'seller', 'kurang', 'responsif'],\n",
              " ['ok', 'barangnya', 'recommended', 'sellernya']]"
            ]
          },
          "metadata": {},
          "execution_count": 5
        }
      ]
    },
    {
      "cell_type": "markdown",
      "metadata": {
        "id": "ilqs6oh8nJyx"
      },
      "source": [
        "## Train Word2Vec Model"
      ]
    },
    {
      "cell_type": "code",
      "metadata": {
        "id": "Zr3eUJ0Tmfmt"
      },
      "source": [
        "model = Word2Vec(corpus, size=100, window=5, workers=2, min_count=1, iter=100)\n"
      ],
      "execution_count": 6,
      "outputs": []
    },
    {
      "cell_type": "markdown",
      "metadata": {
        "id": "W3GOj9NDobAK"
      },
      "source": [
        "## Menyimpan model"
      ]
    },
    {
      "cell_type": "code",
      "metadata": {
        "id": "4me7Ne3gn3OM"
      },
      "source": [
        "model.save(\"komentar_app.w2v\")"
      ],
      "execution_count": 7,
      "outputs": []
    },
    {
      "cell_type": "markdown",
      "metadata": {
        "id": "6_RJ3olWocLH"
      },
      "source": [
        "## Load Model\n",
        "> Menggunakan pretrained model (model yang sudah dibuat sebelumnya)"
      ]
    },
    {
      "cell_type": "code",
      "metadata": {
        "id": "LIRAsG-Jn9Hn"
      },
      "source": [
        "model = Word2Vec.load(\"komentar_app.w2v\")\n"
      ],
      "execution_count": 8,
      "outputs": []
    },
    {
      "cell_type": "markdown",
      "metadata": {
        "id": "X6jijQCcorCg"
      },
      "source": [
        "## Menampilkan Informasi dari Model yang Sudah Dibuat"
      ]
    },
    {
      "cell_type": "code",
      "metadata": {
        "id": "XCc72C54ot_w"
      },
      "source": [
        "# model.wv adalah Word Vector dari Model yang sudah dibuat\n",
        "w2v = model.wv"
      ],
      "execution_count": 9,
      "outputs": []
    },
    {
      "cell_type": "code",
      "metadata": {
        "colab": {
          "base_uri": "https://localhost:8080/"
        },
        "id": "ZKrvWt9Io422",
        "outputId": "684f95e8-6fbb-46d9-deab-26f1eae5af9d"
      },
      "source": [
        "# Menampilkan semua vocabulary yang sudah di-train\n",
        "w2v.index2word"
      ],
      "execution_count": 10,
      "outputs": [
        {
          "output_type": "execute_result",
          "data": {
            "text/plain": [
              "['sesuai',\n",
              " 'produk',\n",
              " 'harga',\n",
              " 'barang',\n",
              " 'ok',\n",
              " 'kualitas',\n",
              " 'ramah',\n",
              " 'dan',\n",
              " 'recommended',\n",
              " 'seller',\n",
              " 'cepat',\n",
              " 'tidak',\n",
              " 'gambar',\n",
              " 'responsif',\n",
              " 'pengiriman',\n",
              " 'baik',\n",
              " 'penjual',\n",
              " 'tapi',\n",
              " 'dengan',\n",
              " 'lumayan',\n",
              " 'bagus',\n",
              " 'sih',\n",
              " 'lah',\n",
              " 'sama',\n",
              " 'gak',\n",
              " 'barangnya',\n",
              " 'ada',\n",
              " 'memang',\n",
              " 'berfungsi',\n",
              " 'untuk',\n",
              " 'segini',\n",
              " 'sudah',\n",
              " 'dapat',\n",
              " 'ekspektasi',\n",
              " 'berbeda',\n",
              " 'sejauh',\n",
              " 'ini',\n",
              " 'yaaa',\n",
              " 'berkespektasi',\n",
              " 'tinggi',\n",
              " 'tengkyuu',\n",
              " 'sampai',\n",
              " 'pesanan',\n",
              " 'packing',\n",
              " 'rapi',\n",
              " 'sdh',\n",
              " 'diterimapacking',\n",
              " 'amansampainya',\n",
              " 'cepetjenis',\n",
              " 'jumlahnya',\n",
              " 'pesenanmakase',\n",
              " 'yah',\n",
              " 'di',\n",
              " 'pengirimanya',\n",
              " 'lama',\n",
              " 'realpicbarang',\n",
              " 'pesenanterimakasih',\n",
              " 'sellersukses',\n",
              " 'terus',\n",
              " 'aku',\n",
              " 'sering',\n",
              " 'beli',\n",
              " 'iniyamagata',\n",
              " 'okeee',\n",
              " 'ga',\n",
              " 'not',\n",
              " 'bad',\n",
              " 'wajar',\n",
              " 'mantap',\n",
              " 'pic',\n",
              " 'pokoknya',\n",
              " 'toko',\n",
              " 'nya',\n",
              " 'kurang',\n",
              " 'sellernya']"
            ]
          },
          "metadata": {},
          "execution_count": 10
        }
      ]
    },
    {
      "cell_type": "code",
      "metadata": {
        "colab": {
          "base_uri": "https://localhost:8080/"
        },
        "id": "cINrhrKWpDwK",
        "outputId": "8832e429-0e6b-4b3b-98d0-a0b85afcae73"
      },
      "source": [
        "# Menampilkan vector yang sudah dibuat dari dokumen teks\n",
        "w2v.vectors"
      ],
      "execution_count": 11,
      "outputs": [
        {
          "output_type": "execute_result",
          "data": {
            "text/plain": [
              "array([[ 0.0042515 ,  0.00594678,  0.00784421, ...,  0.00611593,\n",
              "         0.00674726,  0.00645194],\n",
              "       [ 0.01039963, -0.00071682,  0.00530051, ...,  0.00573093,\n",
              "        -0.0012364 ,  0.00278634],\n",
              "       [ 0.00917239,  0.00481645,  0.00694785, ...,  0.00111101,\n",
              "        -0.00130035,  0.00215997],\n",
              "       ...,\n",
              "       [ 0.00606994, -0.00249731, -0.00317005, ...,  0.00408044,\n",
              "        -0.00278729,  0.00060354],\n",
              "       [ 0.00703286,  0.00402866,  0.00371498, ...,  0.0040876 ,\n",
              "        -0.00248964, -0.00058052],\n",
              "       [-0.00178651,  0.00277755, -0.00160752, ..., -0.0031041 ,\n",
              "        -0.00282714, -0.00195317]], dtype=float32)"
            ]
          },
          "metadata": {},
          "execution_count": 11
        }
      ]
    },
    {
      "cell_type": "code",
      "metadata": {
        "colab": {
          "base_uri": "https://localhost:8080/"
        },
        "id": "lyQPHKDQpfLi",
        "outputId": "deed30ab-3b64-4303-9ffe-2318668f4019"
      },
      "source": [
        "# Menampilkan ukuran vektor\n",
        "w2v.vector_size"
      ],
      "execution_count": 12,
      "outputs": [
        {
          "output_type": "execute_result",
          "data": {
            "text/plain": [
              "100"
            ]
          },
          "metadata": {},
          "execution_count": 12
        }
      ]
    },
    {
      "cell_type": "code",
      "metadata": {
        "colab": {
          "base_uri": "https://localhost:8080/"
        },
        "id": "u1htiGu_p36V",
        "outputId": "7c94b6a2-9489-47a3-e06c-03e2575ee698"
      },
      "source": [
        "# Menampilkan vektor kata yang terdapat pada vocabulary\n",
        "w2v['berbeda']"
      ],
      "execution_count": 13,
      "outputs": [
        {
          "output_type": "execute_result",
          "data": {
            "text/plain": [
              "array([-2.5184134e-03,  3.8417650e-03,  8.6759264e-04,  1.0061371e-03,\n",
              "        5.2974899e-03,  7.3185645e-04, -7.9206459e-04, -1.9277331e-04,\n",
              "        4.2323425e-04, -1.8355364e-03,  2.1965017e-03, -1.8806220e-03,\n",
              "       -2.8663501e-03, -4.4457358e-03,  2.1007983e-03,  5.9548847e-04,\n",
              "       -2.4348823e-03, -5.6179048e-04, -4.5245346e-03, -2.3685650e-03,\n",
              "       -4.7600816e-04,  1.7264210e-04, -7.8679272e-04, -4.0158005e-03,\n",
              "       -4.5874808e-03, -5.2807475e-03, -1.6413347e-03, -1.9036942e-03,\n",
              "       -4.6966872e-03, -3.5712468e-03, -4.5779956e-04,  5.0323927e-03,\n",
              "       -1.3945680e-03,  3.7097675e-03, -1.4852708e-06,  3.5376786e-03,\n",
              "       -4.8364425e-04, -4.5720567e-03,  6.0313512e-03,  1.8793058e-03,\n",
              "       -4.9975901e-03, -4.3357294e-03,  4.8260000e-03, -1.6707412e-03,\n",
              "        3.8006187e-03, -5.9114103e-03,  1.9910953e-03,  5.9209595e-04,\n",
              "        3.6546951e-03, -4.4955234e-03, -2.2253732e-03, -1.9014933e-03,\n",
              "       -8.1007835e-04, -1.1086860e-03, -2.2105677e-03,  4.8362004e-04,\n",
              "       -5.6032776e-03,  3.8344733e-04, -3.2214450e-03,  3.2017464e-03,\n",
              "       -3.1599111e-03, -5.3317659e-03, -2.8036700e-03,  1.6743901e-04,\n",
              "        3.8459518e-03,  1.1418752e-03, -5.1072438e-04,  3.9420882e-03,\n",
              "        4.8392615e-03, -4.6361224e-03, -4.7428100e-03, -4.2405585e-03,\n",
              "       -3.2565063e-03, -5.7234510e-04, -3.4900431e-03, -2.0893125e-03,\n",
              "        4.9074425e-04,  5.0558680e-04,  5.2269818e-03, -3.2073457e-03,\n",
              "       -2.6315595e-03,  6.0700788e-03,  1.9616768e-04, -8.0537313e-04,\n",
              "       -4.7015767e-03,  4.0097898e-03,  2.4799614e-03,  2.8203148e-03,\n",
              "        3.1812451e-04,  3.7273541e-03,  3.1774305e-03, -6.0077844e-04,\n",
              "        6.8274130e-05,  1.3508364e-03, -5.0244806e-03, -3.4239332e-04,\n",
              "       -3.4440500e-03,  4.6377042e-03,  5.1083546e-03,  4.4654142e-03],\n",
              "      dtype=float32)"
            ]
          },
          "metadata": {},
          "execution_count": 13
        }
      ]
    },
    {
      "cell_type": "markdown",
      "metadata": {
        "id": "TPklgZ0AqX4O"
      },
      "source": [
        "## Sanity Check\n",
        "> Untuk mengetahui apakah model yang sudah kita train sudah memiliki makna atau masih perlu dilakukan training lanjutan"
      ]
    },
    {
      "cell_type": "markdown",
      "metadata": {
        "id": "LYb7IP93qin1"
      },
      "source": [
        "### Similar Word"
      ]
    },
    {
      "cell_type": "code",
      "metadata": {
        "colab": {
          "base_uri": "https://localhost:8080/"
        },
        "id": "-0xUDnlFp-6n",
        "outputId": "33249a49-031d-4188-95e5-bd517f4aa7d8"
      },
      "source": [
        "# Menampilkan kata yang memiliki kemiripan makna dengan kata `produk`\n",
        "# atau dalam kata lain yaitu melihat hubungan semantik dari kata `produk` dengan kata lainnya.\n",
        "w2v.similar_by_word(\"produk\", topn=5)"
      ],
      "execution_count": 14,
      "outputs": [
        {
          "output_type": "execute_result",
          "data": {
            "text/plain": [
              "[('iniyamagata', 0.6556724309921265),\n",
              " ('sesuai', 0.6515691876411438),\n",
              " ('harga', 0.6466050148010254),\n",
              " ('cepetjenis', 0.6226176023483276),\n",
              " ('sejauh', 0.619300127029419)]"
            ]
          },
          "metadata": {},
          "execution_count": 14
        }
      ]
    },
    {
      "cell_type": "markdown",
      "metadata": {
        "id": "AZ7e5HNHte2X"
      },
      "source": [
        "---"
      ]
    },
    {
      "cell_type": "markdown",
      "metadata": {
        "id": "4VvPSHL9tawr"
      },
      "source": [
        "## TF-IDF"
      ]
    },
    {
      "cell_type": "code",
      "metadata": {
        "colab": {
          "base_uri": "https://localhost:8080/"
        },
        "id": "AEnPHEPH1uzL",
        "outputId": "0ed4ba0b-d454-450c-c4ec-3880ec5bbf4f"
      },
      "source": [
        "# Menggunakan dataset yang sama seperti pada Word2vec. \n",
        "komentar"
      ],
      "execution_count": 15,
      "outputs": [
        {
          "output_type": "execute_result",
          "data": {
            "text/plain": [
              "['Pengiriman cepat kualitas produk baik penjual ramah',\n",
              " 'Produk tidak sesuai gambar tapi memang sesuai harga',\n",
              " 'penjual responsif dan ramah produk berfungsi dengan baik',\n",
              " 'Lumayan untuk harga segini sudah dapat produk bagus',\n",
              " 'Tidak sesuai ekspektasi produk berbeda dengan gambar',\n",
              " 'Sejauh ini yaaa lumayan sih tidak berkespektasi tinggi sesuai lah sama harga tengkyuu',\n",
              " 'Barang cepat sampai dan sesuai pesanan Packing rapi dan harga recommended',\n",
              " 'Barang sdh diterimapacking amansampainya cepetjenis dan jumlahnya sesuai pesenanmakase yah',\n",
              " 'seller ramah tapi di pengirimanya lama',\n",
              " 'realpicbarang sesuai pesenanterimakasih sellersukses terus',\n",
              " 'Barang bagus aku sering beli produk iniyamagata okeee',\n",
              " 'seller gak responsif ga sesuai gambar',\n",
              " 'barang ok kualitas ok',\n",
              " 'harga sesuai sama barangnya not bad lah',\n",
              " 'wajar sih ada harga ada barang',\n",
              " 'mantap kualitas ok sesuai pic',\n",
              " 'recommended pokoknya',\n",
              " 'kualitas ok seller ramah pengiriman cepat',\n",
              " 'toko nya gak recommended seller kurang responsif',\n",
              " 'ok barangnya recommended sellernya']"
            ]
          },
          "metadata": {},
          "execution_count": 15
        }
      ]
    },
    {
      "cell_type": "code",
      "metadata": {
        "id": "DYJzS0h9shOE"
      },
      "source": [
        "# Import Library yang dibutuhkan\n",
        "from sklearn.feature_extraction.text import TfidfVectorizer\n",
        "import pandas as pd\n",
        "\n",
        "\n",
        "vectorizer = TfidfVectorizer()\n",
        "result = vectorizer.fit_transform(komentar) #tfidf"
      ],
      "execution_count": 16,
      "outputs": []
    },
    {
      "cell_type": "code",
      "metadata": {
        "colab": {
          "base_uri": "https://localhost:8080/"
        },
        "id": "Ev0sewgU15Be",
        "outputId": "2c1e597a-0e3d-478a-b90e-fcb228ad6e3a"
      },
      "source": [
        "# Menampilkan nama fitur / token dari dataset\n",
        "print(vectorizer.get_feature_names())"
      ],
      "execution_count": 17,
      "outputs": [
        {
          "output_type": "stream",
          "name": "stdout",
          "text": [
            "['ada', 'aku', 'amansampainya', 'bad', 'bagus', 'baik', 'barang', 'barangnya', 'beli', 'berbeda', 'berfungsi', 'berkespektasi', 'cepat', 'cepetjenis', 'dan', 'dapat', 'dengan', 'di', 'diterimapacking', 'ekspektasi', 'ga', 'gak', 'gambar', 'harga', 'ini', 'iniyamagata', 'jumlahnya', 'kualitas', 'kurang', 'lah', 'lama', 'lumayan', 'mantap', 'memang', 'not', 'nya', 'ok', 'okeee', 'packing', 'pengiriman', 'pengirimanya', 'penjual', 'pesanan', 'pesenanmakase', 'pesenanterimakasih', 'pic', 'pokoknya', 'produk', 'ramah', 'rapi', 'realpicbarang', 'recommended', 'responsif', 'sama', 'sampai', 'sdh', 'segini', 'sejauh', 'seller', 'sellernya', 'sellersukses', 'sering', 'sesuai', 'sih', 'sudah', 'tapi', 'tengkyuu', 'terus', 'tidak', 'tinggi', 'toko', 'untuk', 'wajar', 'yaaa', 'yah']\n"
          ]
        },
        {
          "output_type": "stream",
          "name": "stderr",
          "text": [
            "/usr/local/lib/python3.7/dist-packages/sklearn/utils/deprecation.py:87: FutureWarning: Function get_feature_names is deprecated; get_feature_names is deprecated in 1.0 and will be removed in 1.2. Please use get_feature_names_out instead.\n",
            "  warnings.warn(msg, category=FutureWarning)\n"
          ]
        }
      ]
    },
    {
      "cell_type": "code",
      "metadata": {
        "colab": {
          "base_uri": "https://localhost:8080/"
        },
        "id": "zKAohjpG10w5",
        "outputId": "61a27fbf-da19-4c55-aa4f-b9d1c9f998d5"
      },
      "source": [
        "# Menampilkan hasil vektor kata\n",
        "print(result)"
      ],
      "execution_count": 18,
      "outputs": [
        {
          "output_type": "stream",
          "name": "stdout",
          "text": [
            "  (0, 48)\t0.3465815374891616\n",
            "  (0, 41)\t0.41928650039086696\n",
            "  (0, 5)\t0.41928650039086696\n",
            "  (0, 47)\t0.29869200269909457\n",
            "  (0, 27)\t0.3465815374891616\n",
            "  (0, 12)\t0.37834118866023614\n",
            "  (0, 39)\t0.41928650039086696\n",
            "  (1, 23)\t0.28300722075106505\n",
            "  (1, 33)\t0.45194789068240265\n",
            "  (1, 65)\t0.39726911367493173\n",
            "  (1, 22)\t0.35847390399084283\n",
            "  (1, 62)\t0.469816029684285\n",
            "  (1, 68)\t0.35847390399084283\n",
            "  (1, 47)\t0.28300722075106505\n",
            "  (2, 16)\t0.3749390439666552\n",
            "  (2, 10)\t0.42654438571296155\n",
            "  (2, 14)\t0.3383244713036003\n",
            "  (2, 52)\t0.3383244713036003\n",
            "  (2, 48)\t0.3099240023266685\n",
            "  (2, 41)\t0.3749390439666552\n",
            "  (2, 5)\t0.3749390439666552\n",
            "  (2, 47)\t0.26709968918170196\n",
            "  (3, 4)\t0.34938895927010233\n",
            "  (3, 15)\t0.39747767378425\n",
            "  (3, 64)\t0.39747767378425\n",
            "  :\t:\n",
            "  (14, 23)\t0.2434393668525939\n",
            "  (15, 45)\t0.5483233810014905\n",
            "  (15, 32)\t0.5483233810014905\n",
            "  (15, 36)\t0.39840772145019154\n",
            "  (15, 62)\t0.2850009029317661\n",
            "  (15, 27)\t0.39840772145019154\n",
            "  (16, 46)\t0.8089977238779507\n",
            "  (16, 51)\t0.5878117749418559\n",
            "  (17, 36)\t0.3876308990254831\n",
            "  (17, 58)\t0.3876308990254831\n",
            "  (17, 48)\t0.3876308990254831\n",
            "  (17, 27)\t0.3876308990254831\n",
            "  (17, 12)\t0.4231521856622946\n",
            "  (17, 39)\t0.46894708896847387\n",
            "  (18, 28)\t0.42805188921603476\n",
            "  (18, 35)\t0.42805188921603476\n",
            "  (18, 70)\t0.42805188921603476\n",
            "  (18, 21)\t0.3762641626205414\n",
            "  (18, 58)\t0.31101934324508895\n",
            "  (18, 51)\t0.31101934324508895\n",
            "  (18, 52)\t0.33952018584761684\n",
            "  (19, 59)\t0.5945915275476735\n",
            "  (19, 7)\t0.5226550538621318\n",
            "  (19, 36)\t0.43202581522456274\n",
            "  (19, 51)\t0.43202581522456274\n"
          ]
        }
      ]
    },
    {
      "cell_type": "markdown",
      "metadata": {
        "id": "gvtQRTZX8Llu"
      },
      "source": [
        "**(4, 16)\t0.21680124922897376**\n",
        "Artinya:\n",
        "> Terdapat kata dengan index ke-16 pada `vectorizer.get_feature_names()` dalam dokumen ke-5 (index dari nol)\n",
        ">\n",
        "> dengan bobot TF-IDF 0.21680124922897376"
      ]
    },
    {
      "cell_type": "code",
      "metadata": {
        "colab": {
          "base_uri": "https://localhost:8080/"
        },
        "id": "Cx-59-0B8POw",
        "outputId": "6eb32976-af46-4464-8905-3ef6067694b7"
      },
      "source": [
        "print(f\"Teks dokumen ke-{4+1}:\\n{komentar[4]}\")\n",
        "print(f\"Fitur Name ke-16: {vectorizer.get_feature_names()[16]}\")"
      ],
      "execution_count": 19,
      "outputs": [
        {
          "output_type": "stream",
          "name": "stdout",
          "text": [
            "Teks dokumen ke-5:\n",
            "Tidak sesuai ekspektasi produk berbeda dengan gambar\n",
            "Fitur Name ke-16: dengan\n"
          ]
        },
        {
          "output_type": "stream",
          "name": "stderr",
          "text": [
            "/usr/local/lib/python3.7/dist-packages/sklearn/utils/deprecation.py:87: FutureWarning: Function get_feature_names is deprecated; get_feature_names is deprecated in 1.0 and will be removed in 1.2. Please use get_feature_names_out instead.\n",
            "  warnings.warn(msg, category=FutureWarning)\n"
          ]
        }
      ]
    },
    {
      "cell_type": "markdown",
      "metadata": {
        "id": "QDZxrB4p8STH"
      },
      "source": [
        "> Dapat diketahui bahwa di dalam dokumen ke-1 (index ke-0) terdapat kata produk"
      ]
    },
    {
      "cell_type": "code",
      "metadata": {
        "colab": {
          "base_uri": "https://localhost:8080/"
        },
        "id": "SDBhuCu-2V7Z",
        "outputId": "d61cf82c-90d8-4f2c-b7dc-354508abb738"
      },
      "source": [
        "# Menampilkan hasil TF-IDF dalam bentuk list dua dimensi\n",
        "result.todense()"
      ],
      "execution_count": 20,
      "outputs": [
        {
          "output_type": "execute_result",
          "data": {
            "text/plain": [
              "matrix([[0., 0., 0., ..., 0., 0., 0.],\n",
              "        [0., 0., 0., ..., 0., 0., 0.],\n",
              "        [0., 0., 0., ..., 0., 0., 0.],\n",
              "        ...,\n",
              "        [0., 0., 0., ..., 0., 0., 0.],\n",
              "        [0., 0., 0., ..., 0., 0., 0.],\n",
              "        [0., 0., 0., ..., 0., 0., 0.]])"
            ]
          },
          "metadata": {},
          "execution_count": 20
        }
      ]
    },
    {
      "cell_type": "code",
      "metadata": {
        "colab": {
          "base_uri": "https://localhost:8080/",
          "height": 478
        },
        "id": "9j2RVkIb2ZkT",
        "outputId": "0aaead8d-0c71-4ad8-b145-a9d8657bbcd4"
      },
      "source": [
        "# Membuat dataframe dari list dua dimensi tersebut. \n",
        "# Dilakukan transpose agar nama kolom berubah menjadi nama baris\n",
        "# Nama kolom diubah menjadi urutan dokumen\n",
        "df = pd.DataFrame(result.todense().T,\n",
        "                  index=vectorizer.get_feature_names(),\n",
        "                  columns=[f\"D{i+1}\" for i in range(len(komentar))])\n",
        "df"
      ],
      "execution_count": 21,
      "outputs": [
        {
          "output_type": "stream",
          "name": "stderr",
          "text": [
            "/usr/local/lib/python3.7/dist-packages/sklearn/utils/deprecation.py:87: FutureWarning: Function get_feature_names is deprecated; get_feature_names is deprecated in 1.0 and will be removed in 1.2. Please use get_feature_names_out instead.\n",
            "  warnings.warn(msg, category=FutureWarning)\n"
          ]
        },
        {
          "output_type": "execute_result",
          "data": {
            "text/html": [
              "<div>\n",
              "<style scoped>\n",
              "    .dataframe tbody tr th:only-of-type {\n",
              "        vertical-align: middle;\n",
              "    }\n",
              "\n",
              "    .dataframe tbody tr th {\n",
              "        vertical-align: top;\n",
              "    }\n",
              "\n",
              "    .dataframe thead th {\n",
              "        text-align: right;\n",
              "    }\n",
              "</style>\n",
              "<table border=\"1\" class=\"dataframe\">\n",
              "  <thead>\n",
              "    <tr style=\"text-align: right;\">\n",
              "      <th></th>\n",
              "      <th>D1</th>\n",
              "      <th>D2</th>\n",
              "      <th>D3</th>\n",
              "      <th>D4</th>\n",
              "      <th>D5</th>\n",
              "      <th>D6</th>\n",
              "      <th>D7</th>\n",
              "      <th>D8</th>\n",
              "      <th>D9</th>\n",
              "      <th>D10</th>\n",
              "      <th>D11</th>\n",
              "      <th>D12</th>\n",
              "      <th>D13</th>\n",
              "      <th>D14</th>\n",
              "      <th>D15</th>\n",
              "      <th>D16</th>\n",
              "      <th>D17</th>\n",
              "      <th>D18</th>\n",
              "      <th>D19</th>\n",
              "      <th>D20</th>\n",
              "    </tr>\n",
              "  </thead>\n",
              "  <tbody>\n",
              "    <tr>\n",
              "      <th>ada</th>\n",
              "      <td>0.0</td>\n",
              "      <td>0.0</td>\n",
              "      <td>0.0</td>\n",
              "      <td>0.000000</td>\n",
              "      <td>0.0</td>\n",
              "      <td>0.000000</td>\n",
              "      <td>0.0</td>\n",
              "      <td>0.000000</td>\n",
              "      <td>0.0</td>\n",
              "      <td>0.0</td>\n",
              "      <td>0.000000</td>\n",
              "      <td>0.0</td>\n",
              "      <td>0.0</td>\n",
              "      <td>0.000000</td>\n",
              "      <td>0.77752</td>\n",
              "      <td>0.0</td>\n",
              "      <td>0.0</td>\n",
              "      <td>0.0</td>\n",
              "      <td>0.000000</td>\n",
              "      <td>0.0</td>\n",
              "    </tr>\n",
              "    <tr>\n",
              "      <th>aku</th>\n",
              "      <td>0.0</td>\n",
              "      <td>0.0</td>\n",
              "      <td>0.0</td>\n",
              "      <td>0.000000</td>\n",
              "      <td>0.0</td>\n",
              "      <td>0.000000</td>\n",
              "      <td>0.0</td>\n",
              "      <td>0.000000</td>\n",
              "      <td>0.0</td>\n",
              "      <td>0.0</td>\n",
              "      <td>0.388760</td>\n",
              "      <td>0.0</td>\n",
              "      <td>0.0</td>\n",
              "      <td>0.000000</td>\n",
              "      <td>0.00000</td>\n",
              "      <td>0.0</td>\n",
              "      <td>0.0</td>\n",
              "      <td>0.0</td>\n",
              "      <td>0.000000</td>\n",
              "      <td>0.0</td>\n",
              "    </tr>\n",
              "    <tr>\n",
              "      <th>amansampainya</th>\n",
              "      <td>0.0</td>\n",
              "      <td>0.0</td>\n",
              "      <td>0.0</td>\n",
              "      <td>0.000000</td>\n",
              "      <td>0.0</td>\n",
              "      <td>0.000000</td>\n",
              "      <td>0.0</td>\n",
              "      <td>0.346041</td>\n",
              "      <td>0.0</td>\n",
              "      <td>0.0</td>\n",
              "      <td>0.000000</td>\n",
              "      <td>0.0</td>\n",
              "      <td>0.0</td>\n",
              "      <td>0.000000</td>\n",
              "      <td>0.00000</td>\n",
              "      <td>0.0</td>\n",
              "      <td>0.0</td>\n",
              "      <td>0.0</td>\n",
              "      <td>0.000000</td>\n",
              "      <td>0.0</td>\n",
              "    </tr>\n",
              "    <tr>\n",
              "      <th>bad</th>\n",
              "      <td>0.0</td>\n",
              "      <td>0.0</td>\n",
              "      <td>0.0</td>\n",
              "      <td>0.000000</td>\n",
              "      <td>0.0</td>\n",
              "      <td>0.000000</td>\n",
              "      <td>0.0</td>\n",
              "      <td>0.000000</td>\n",
              "      <td>0.0</td>\n",
              "      <td>0.0</td>\n",
              "      <td>0.000000</td>\n",
              "      <td>0.0</td>\n",
              "      <td>0.0</td>\n",
              "      <td>0.448098</td>\n",
              "      <td>0.00000</td>\n",
              "      <td>0.0</td>\n",
              "      <td>0.0</td>\n",
              "      <td>0.0</td>\n",
              "      <td>0.000000</td>\n",
              "      <td>0.0</td>\n",
              "    </tr>\n",
              "    <tr>\n",
              "      <th>bagus</th>\n",
              "      <td>0.0</td>\n",
              "      <td>0.0</td>\n",
              "      <td>0.0</td>\n",
              "      <td>0.349389</td>\n",
              "      <td>0.0</td>\n",
              "      <td>0.000000</td>\n",
              "      <td>0.0</td>\n",
              "      <td>0.000000</td>\n",
              "      <td>0.0</td>\n",
              "      <td>0.0</td>\n",
              "      <td>0.341726</td>\n",
              "      <td>0.0</td>\n",
              "      <td>0.0</td>\n",
              "      <td>0.000000</td>\n",
              "      <td>0.00000</td>\n",
              "      <td>0.0</td>\n",
              "      <td>0.0</td>\n",
              "      <td>0.0</td>\n",
              "      <td>0.000000</td>\n",
              "      <td>0.0</td>\n",
              "    </tr>\n",
              "    <tr>\n",
              "      <th>...</th>\n",
              "      <td>...</td>\n",
              "      <td>...</td>\n",
              "      <td>...</td>\n",
              "      <td>...</td>\n",
              "      <td>...</td>\n",
              "      <td>...</td>\n",
              "      <td>...</td>\n",
              "      <td>...</td>\n",
              "      <td>...</td>\n",
              "      <td>...</td>\n",
              "      <td>...</td>\n",
              "      <td>...</td>\n",
              "      <td>...</td>\n",
              "      <td>...</td>\n",
              "      <td>...</td>\n",
              "      <td>...</td>\n",
              "      <td>...</td>\n",
              "      <td>...</td>\n",
              "      <td>...</td>\n",
              "      <td>...</td>\n",
              "    </tr>\n",
              "    <tr>\n",
              "      <th>toko</th>\n",
              "      <td>0.0</td>\n",
              "      <td>0.0</td>\n",
              "      <td>0.0</td>\n",
              "      <td>0.000000</td>\n",
              "      <td>0.0</td>\n",
              "      <td>0.000000</td>\n",
              "      <td>0.0</td>\n",
              "      <td>0.000000</td>\n",
              "      <td>0.0</td>\n",
              "      <td>0.0</td>\n",
              "      <td>0.000000</td>\n",
              "      <td>0.0</td>\n",
              "      <td>0.0</td>\n",
              "      <td>0.000000</td>\n",
              "      <td>0.00000</td>\n",
              "      <td>0.0</td>\n",
              "      <td>0.0</td>\n",
              "      <td>0.0</td>\n",
              "      <td>0.428052</td>\n",
              "      <td>0.0</td>\n",
              "    </tr>\n",
              "    <tr>\n",
              "      <th>untuk</th>\n",
              "      <td>0.0</td>\n",
              "      <td>0.0</td>\n",
              "      <td>0.0</td>\n",
              "      <td>0.397478</td>\n",
              "      <td>0.0</td>\n",
              "      <td>0.000000</td>\n",
              "      <td>0.0</td>\n",
              "      <td>0.000000</td>\n",
              "      <td>0.0</td>\n",
              "      <td>0.0</td>\n",
              "      <td>0.000000</td>\n",
              "      <td>0.0</td>\n",
              "      <td>0.0</td>\n",
              "      <td>0.000000</td>\n",
              "      <td>0.00000</td>\n",
              "      <td>0.0</td>\n",
              "      <td>0.0</td>\n",
              "      <td>0.0</td>\n",
              "      <td>0.000000</td>\n",
              "      <td>0.0</td>\n",
              "    </tr>\n",
              "    <tr>\n",
              "      <th>wajar</th>\n",
              "      <td>0.0</td>\n",
              "      <td>0.0</td>\n",
              "      <td>0.0</td>\n",
              "      <td>0.000000</td>\n",
              "      <td>0.0</td>\n",
              "      <td>0.000000</td>\n",
              "      <td>0.0</td>\n",
              "      <td>0.000000</td>\n",
              "      <td>0.0</td>\n",
              "      <td>0.0</td>\n",
              "      <td>0.000000</td>\n",
              "      <td>0.0</td>\n",
              "      <td>0.0</td>\n",
              "      <td>0.000000</td>\n",
              "      <td>0.38876</td>\n",
              "      <td>0.0</td>\n",
              "      <td>0.0</td>\n",
              "      <td>0.0</td>\n",
              "      <td>0.000000</td>\n",
              "      <td>0.0</td>\n",
              "    </tr>\n",
              "    <tr>\n",
              "      <th>yaaa</th>\n",
              "      <td>0.0</td>\n",
              "      <td>0.0</td>\n",
              "      <td>0.0</td>\n",
              "      <td>0.000000</td>\n",
              "      <td>0.0</td>\n",
              "      <td>0.310354</td>\n",
              "      <td>0.0</td>\n",
              "      <td>0.000000</td>\n",
              "      <td>0.0</td>\n",
              "      <td>0.0</td>\n",
              "      <td>0.000000</td>\n",
              "      <td>0.0</td>\n",
              "      <td>0.0</td>\n",
              "      <td>0.000000</td>\n",
              "      <td>0.00000</td>\n",
              "      <td>0.0</td>\n",
              "      <td>0.0</td>\n",
              "      <td>0.0</td>\n",
              "      <td>0.000000</td>\n",
              "      <td>0.0</td>\n",
              "    </tr>\n",
              "    <tr>\n",
              "      <th>yah</th>\n",
              "      <td>0.0</td>\n",
              "      <td>0.0</td>\n",
              "      <td>0.0</td>\n",
              "      <td>0.000000</td>\n",
              "      <td>0.0</td>\n",
              "      <td>0.000000</td>\n",
              "      <td>0.0</td>\n",
              "      <td>0.346041</td>\n",
              "      <td>0.0</td>\n",
              "      <td>0.0</td>\n",
              "      <td>0.000000</td>\n",
              "      <td>0.0</td>\n",
              "      <td>0.0</td>\n",
              "      <td>0.000000</td>\n",
              "      <td>0.00000</td>\n",
              "      <td>0.0</td>\n",
              "      <td>0.0</td>\n",
              "      <td>0.0</td>\n",
              "      <td>0.000000</td>\n",
              "      <td>0.0</td>\n",
              "    </tr>\n",
              "  </tbody>\n",
              "</table>\n",
              "<p>75 rows × 20 columns</p>\n",
              "</div>"
            ],
            "text/plain": [
              "                D1   D2   D3        D4   D5  ...  D16  D17  D18       D19  D20\n",
              "ada            0.0  0.0  0.0  0.000000  0.0  ...  0.0  0.0  0.0  0.000000  0.0\n",
              "aku            0.0  0.0  0.0  0.000000  0.0  ...  0.0  0.0  0.0  0.000000  0.0\n",
              "amansampainya  0.0  0.0  0.0  0.000000  0.0  ...  0.0  0.0  0.0  0.000000  0.0\n",
              "bad            0.0  0.0  0.0  0.000000  0.0  ...  0.0  0.0  0.0  0.000000  0.0\n",
              "bagus          0.0  0.0  0.0  0.349389  0.0  ...  0.0  0.0  0.0  0.000000  0.0\n",
              "...            ...  ...  ...       ...  ...  ...  ...  ...  ...       ...  ...\n",
              "toko           0.0  0.0  0.0  0.000000  0.0  ...  0.0  0.0  0.0  0.428052  0.0\n",
              "untuk          0.0  0.0  0.0  0.397478  0.0  ...  0.0  0.0  0.0  0.000000  0.0\n",
              "wajar          0.0  0.0  0.0  0.000000  0.0  ...  0.0  0.0  0.0  0.000000  0.0\n",
              "yaaa           0.0  0.0  0.0  0.000000  0.0  ...  0.0  0.0  0.0  0.000000  0.0\n",
              "yah            0.0  0.0  0.0  0.000000  0.0  ...  0.0  0.0  0.0  0.000000  0.0\n",
              "\n",
              "[75 rows x 20 columns]"
            ]
          },
          "metadata": {},
          "execution_count": 21
        }
      ]
    },
    {
      "cell_type": "markdown",
      "metadata": {
        "id": "1ODlrrrp9H3b"
      },
      "source": [
        "Kata **tidak** memiliki bobot lebih tinggi pada dokumen ke-5 daripada bobot pada dokumen ke-2"
      ]
    },
    {
      "cell_type": "code",
      "metadata": {
        "id": "gYLHzpn-1rMm"
      },
      "source": [
        ""
      ],
      "execution_count": 21,
      "outputs": []
    }
  ]
}