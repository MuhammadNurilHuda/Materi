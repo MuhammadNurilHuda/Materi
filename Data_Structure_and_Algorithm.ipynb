{
  "nbformat": 4,
  "nbformat_minor": 0,
  "metadata": {
    "colab": {
      "name": "Data Structure and Algorithm.ipynb",
      "provenance": [],
      "authorship_tag": "ABX9TyORA+A3ya2s80FSX4A+gXyF",
      "include_colab_link": true
    },
    "kernelspec": {
      "name": "python3",
      "display_name": "Python 3"
    },
    "language_info": {
      "name": "python"
    }
  },
  "cells": [
    {
      "cell_type": "markdown",
      "metadata": {
        "id": "view-in-github",
        "colab_type": "text"
      },
      "source": [
        "<a href=\"https://colab.research.google.com/github/MuhammadNurilHuda/Materi/blob/main/Data_Structure_and_Algorithm.ipynb\" target=\"_parent\"><img src=\"https://colab.research.google.com/assets/colab-badge.svg\" alt=\"Open In Colab\"/></a>"
      ]
    },
    {
      "cell_type": "markdown",
      "metadata": {
        "id": "K4ihwDfRofUG"
      },
      "source": [
        "# **Data Structure and Algorithm**\n",
        "\n",
        "Pada pembelajaran data structure dan algorithm ini kita akan menggunakan google colab untuk editor sekaligus untuk run programnya."
      ]
    },
    {
      "cell_type": "markdown",
      "metadata": {
        "id": "frXsbMyDoimZ"
      },
      "source": [
        "## Kendali program, lanjutan\n",
        "1. if bersarang\n",
        "2. pass\n",
        "3. defining function\n",
        "4. break & continue"
      ]
    },
    {
      "cell_type": "markdown",
      "metadata": {
        "id": "CIUIJoLholCL"
      },
      "source": [
        "1. if bersarang\n",
        "\n",
        "tatemen seleksi if…else bersarang untuk beberapa kasus dilakukan dengan menempatkan statemen if…else didalam statemen if…else lain.\n"
      ]
    },
    {
      "cell_type": "code",
      "metadata": {
        "colab": {
          "base_uri": "https://localhost:8080/"
        },
        "id": "bjgIAHogoiFS",
        "outputId": "6fde0178-b222-42d5-94c2-22babe5e09b8"
      },
      "source": [
        "a=5\n",
        "b=5\n",
        "if(a==b):\n",
        "    if(a != 4):\n",
        "        print(\"Nilai A sama dengan B namun bukan angka 4\")\n",
        "    else:\n",
        "        print(\"Nilai A sama dengan B\")\n",
        "elif(a > b):\n",
        "    print(\"Nilai A lebih besar dari B\")\n",
        "else:\n",
        "    print(\"Nilai A lebih kecil dari B\")"
      ],
      "execution_count": null,
      "outputs": [
        {
          "output_type": "stream",
          "name": "stdout",
          "text": [
            "Nilai A sama dengan B namun bukan angka 4\n"
          ]
        }
      ]
    },
    {
      "cell_type": "markdown",
      "metadata": {
        "id": "nwe9VSRao6MU"
      },
      "source": [
        "2. pass\n",
        "\n",
        "Statemen pass tidak melakukan proses apa-apa. Statement ini dapat digunakan ketika pernyataan diperlukan secara sintaksis tetapi program tidak memerlukan Tindakan apapun.\n"
      ]
    },
    {
      "cell_type": "code",
      "metadata": {
        "id": "FhbNvkw3o6w4"
      },
      "source": [
        "x = 6\n",
        "\n",
        "if (x < 5):\n",
        "  x = 3\n",
        "  print(x)\n",
        "else:\n",
        "  pass"
      ],
      "execution_count": null,
      "outputs": []
    },
    {
      "cell_type": "markdown",
      "metadata": {
        "id": "-lOZEvNKpJBp"
      },
      "source": [
        "3. defining function\n",
        "\n",
        "Pernyataan def  merupakan sebuah definisi fungsi. Pernyataan def harus diikuti dengan nama fungsi dan daftar parameter formal dalam kurung. Pernyataan-pernyataan yang membentuk badan fungsi dimulai pada baris berikutnya, dan harus diindentasi (penulisan baris berikutnya harus menjorok kedalam satu tab).\n"
      ]
    },
    {
      "cell_type": "code",
      "metadata": {
        "colab": {
          "base_uri": "https://localhost:8080/"
        },
        "id": "P8C4rvffpLel",
        "outputId": "069929b4-aa53-46ac-a3c6-732afb66918e"
      },
      "source": [
        "def fib(n):\n",
        "  a, b = 0, 1 \n",
        "  while a < n:\n",
        "    print(a, end=' ')\n",
        "    a, b = b, a+b\n",
        "\n",
        "fib(9999)"
      ],
      "execution_count": null,
      "outputs": [
        {
          "output_type": "stream",
          "name": "stdout",
          "text": [
            "0 1 1 2 3 5 8 13 21 34 55 89 144 233 377 610 987 1597 2584 4181 6765 "
          ]
        }
      ]
    },
    {
      "cell_type": "markdown",
      "metadata": {
        "id": "jFC3hBEupXz0"
      },
      "source": [
        "4. Break\n",
        "\n",
        "Pernyataan break, sama seperti dalam Bahasa C, yaitu digunakan untuk keluar dari looping for atau looping while."
      ]
    },
    {
      "cell_type": "code",
      "metadata": {
        "colab": {
          "base_uri": "https://localhost:8080/"
        },
        "id": "SddL_ldVphMk",
        "outputId": "82264bf9-4de4-4d61-eb11-4f9f5fd97f62"
      },
      "source": [
        "for n in range(2, 10):\n",
        "  for x in range(2, n):\n",
        "    if n % x == 0:\n",
        "      print(n, 'sama dengan', x, '*', n//x)\n",
        "      break\n",
        "    else:\n",
        "      print(n, 'ini adalah sebuah bilangan prima')"
      ],
      "execution_count": null,
      "outputs": [
        {
          "output_type": "stream",
          "name": "stdout",
          "text": [
            "3 ini adalah sebuah bilangan prima\n",
            "4 sama dengan 2 * 2\n",
            "5 ini adalah sebuah bilangan prima\n",
            "5 ini adalah sebuah bilangan prima\n",
            "5 ini adalah sebuah bilangan prima\n",
            "6 sama dengan 2 * 3\n",
            "7 ini adalah sebuah bilangan prima\n",
            "7 ini adalah sebuah bilangan prima\n",
            "7 ini adalah sebuah bilangan prima\n",
            "7 ini adalah sebuah bilangan prima\n",
            "7 ini adalah sebuah bilangan prima\n",
            "8 sama dengan 2 * 4\n",
            "9 ini adalah sebuah bilangan prima\n",
            "9 sama dengan 3 * 3\n"
          ]
        }
      ]
    },
    {
      "cell_type": "markdown",
      "metadata": {
        "id": "eFNlHw0IqBHA"
      },
      "source": [
        "5. Break\n",
        "\n",
        "Sedangkan continue untuk melanjutkan ke iterasi berikutnya dari sebuah loop.\n"
      ]
    },
    {
      "cell_type": "code",
      "metadata": {
        "colab": {
          "base_uri": "https://localhost:8080/"
        },
        "id": "WnHFQIS5qEGI",
        "outputId": "e7b40fab-b105-4ee8-c3a4-658d58dd3e2a"
      },
      "source": [
        "for num in range(2, 10):\n",
        "  if num % 2 == 0:\n",
        "    print(\"Nomor genap ditemukan\", num)\n",
        "    continue\n",
        "  print(\"Nomor ganjil ditemukan\", num)"
      ],
      "execution_count": null,
      "outputs": [
        {
          "output_type": "stream",
          "name": "stdout",
          "text": [
            "Nomor genap ditemukan 2\n",
            "Nomor ganjil ditemukan 3\n",
            "Nomor genap ditemukan 4\n",
            "Nomor ganjil ditemukan 5\n",
            "Nomor genap ditemukan 6\n",
            "Nomor ganjil ditemukan 7\n",
            "Nomor genap ditemukan 8\n",
            "Nomor ganjil ditemukan 9\n"
          ]
        }
      ]
    },
    {
      "cell_type": "markdown",
      "metadata": {
        "id": "WI9FePK6qLEU"
      },
      "source": [
        "## Object-Oriented Programming (OOP) - Intro\n",
        "\n",
        "Pemrograman berorientasi objek atau dalam bahasa inggris disebut Object Oriented Programming (OOP) adalah paradigma atau teknik pemrograman di mana semua hal dalam program dimodelkan seperti objek dalam dunia nyata. Objek di dunia nyata memiliki ciri atau attribut dan juga aksi atau kelakuan (behaviour).\n"
      ]
    },
    {
      "cell_type": "code",
      "metadata": {
        "colab": {
          "base_uri": "https://localhost:8080/"
        },
        "id": "Z1RvnD1-qNdz",
        "outputId": "e297d702-3184-403e-a0c6-2d850f7d7931"
      },
      "source": [
        "class Segitiga:\n",
        "    def __init__(self, alas, tinggi):\n",
        "        self.alas = alas\n",
        "        self.tinggi = tinggi\n",
        "\n",
        "    def get_luas(self):\n",
        "        return 0.5 * self.alas * self.tinggi\n",
        "\n",
        "segitiga1 = Segitiga(5, 10)\n",
        "segitiga2 = Segitiga(10, 10)\n",
        "\n",
        "print('luas segitiga1 : ', segitiga1.get_luas())\n",
        "print('luas segitiga2 : ', segitiga2.get_luas())"
      ],
      "execution_count": null,
      "outputs": [
        {
          "output_type": "stream",
          "name": "stdout",
          "text": [
            "luas segitiga1 :  25.0\n",
            "luas segitiga2 :  50.0\n"
          ]
        }
      ]
    },
    {
      "cell_type": "markdown",
      "metadata": {
        "id": "vwaC_tOxr8BJ"
      },
      "source": [
        "# Algoritma\n",
        "\n",
        "1. Tree Traversal Algorithm\n",
        "2. Sorting Algorithm\n",
        "3. Searching Algorithm"
      ]
    },
    {
      "cell_type": "markdown",
      "metadata": {
        "id": "iCaENXiar8o8"
      },
      "source": [
        "## 1. Tree Traversal Algorithm\n",
        "### a. In-Order Traversal\n",
        "### b. Pre-Order Traversal\n",
        "### c. Post-Order Traversal"
      ]
    },
    {
      "cell_type": "code",
      "metadata": {
        "id": "tWmQZniZr_xB"
      },
      "source": [
        "class Node:\n",
        "    def __init__(self, letter):\n",
        "        self.childleft = None\n",
        "        self.childright = None\n",
        "        self.nodedata = letter\n",
        "\n",
        "root = Node('A')\n",
        "root.childleft = Node('B')\n",
        "root.childright = Node('C')\n",
        "root.childleft.childleft = Node('D')\n",
        "root.childleft.childright = Node('E')"
      ],
      "execution_count": null,
      "outputs": []
    },
    {
      "cell_type": "markdown",
      "metadata": {
        "id": "XKk58Juut04e"
      },
      "source": [
        "A. In-Order Traversal"
      ]
    },
    {
      "cell_type": "code",
      "metadata": {
        "colab": {
          "base_uri": "https://localhost:8080/"
        },
        "id": "4U36hGt7t1sN",
        "outputId": "be24c5fc-89cf-4e71-89b6-b2291af24261"
      },
      "source": [
        "def InOrd(root):\n",
        "    if root:\n",
        "        InOrd(root.childleft)\n",
        "        print(root.nodedata)\n",
        "        InOrd(root.childright)\n",
        "InOrd(root)"
      ],
      "execution_count": null,
      "outputs": [
        {
          "output_type": "stream",
          "name": "stdout",
          "text": [
            "D\n",
            "B\n",
            "E\n",
            "A\n",
            "C\n"
          ]
        }
      ]
    },
    {
      "cell_type": "markdown",
      "metadata": {
        "id": "ehXaH7C1vAgp"
      },
      "source": [
        "B. Pre-Order Traversal"
      ]
    },
    {
      "cell_type": "code",
      "metadata": {
        "colab": {
          "base_uri": "https://localhost:8080/"
        },
        "id": "MpJQ0tC0u9sX",
        "outputId": "5b3760f6-3563-41d3-8379-477f819b8793"
      },
      "source": [
        "def PreOrd(root):\n",
        "    if root:\n",
        "        print(root.nodedata)\n",
        "        PreOrd(root.childleft)\n",
        "        PreOrd(root.childright)\n",
        "PreOrd(root)"
      ],
      "execution_count": null,
      "outputs": [
        {
          "output_type": "stream",
          "name": "stdout",
          "text": [
            "A\n",
            "B\n",
            "D\n",
            "E\n",
            "C\n"
          ]
        }
      ]
    },
    {
      "cell_type": "markdown",
      "metadata": {
        "id": "i87L4LR5vBWd"
      },
      "source": [
        "C. Post-Order Traversal"
      ]
    },
    {
      "cell_type": "code",
      "metadata": {
        "colab": {
          "base_uri": "https://localhost:8080/"
        },
        "id": "nwmrXzFWvQro",
        "outputId": "6d6af268-b787-4815-fcdf-74b6ccf60dce"
      },
      "source": [
        "def PostOrd(root):\n",
        "    if root:\n",
        "        PostOrd(root.childleft)\n",
        "        PostOrd(root.childright)\n",
        "        print(root.nodedata)\n",
        "PostOrd(root)"
      ],
      "execution_count": null,
      "outputs": [
        {
          "output_type": "stream",
          "name": "stdout",
          "text": [
            "D\n",
            "E\n",
            "B\n",
            "C\n",
            "A\n"
          ]
        }
      ]
    },
    {
      "cell_type": "markdown",
      "metadata": {
        "id": "UbxVjYdQvX92"
      },
      "source": [
        "## 2. Sorting Algorithm\n",
        "### a. Merge Sort\n",
        "### b. Bubble Sort"
      ]
    },
    {
      "cell_type": "markdown",
      "metadata": {
        "id": "kw5q9ZDMvbM5"
      },
      "source": [
        "### Contoh dari Merge Sort\n",
        "\n",
        "Masukkan nilai input misalnya 12 1 6 3 9 20 50 (kasih spasi setiap nilai)"
      ]
    },
    {
      "cell_type": "code",
      "metadata": {
        "id": "Ji5ByBupvbw6"
      },
      "source": [
        ""
      ],
      "execution_count": null,
      "outputs": []
    }
  ]
}