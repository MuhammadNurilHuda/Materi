{
  "nbformat": 4,
  "nbformat_minor": 0,
  "metadata": {
    "colab": {
      "name": "Payment Classification.ipynb",
      "provenance": [],
      "collapsed_sections": [],
      "include_colab_link": true
    },
    "kernelspec": {
      "name": "python3",
      "display_name": "Python 3"
    },
    "language_info": {
      "name": "python"
    }
  },
  "cells": [
    {
      "cell_type": "markdown",
      "metadata": {
        "id": "view-in-github",
        "colab_type": "text"
      },
      "source": [
        "<a href=\"https://colab.research.google.com/github/MuhammadNurilHuda/Materi/blob/main/mini-project/Payment_Classification.ipynb\" target=\"_parent\"><img src=\"https://colab.research.google.com/assets/colab-badge.svg\" alt=\"Open In Colab\"/></a>"
      ]
    },
    {
      "cell_type": "markdown",
      "metadata": {
        "id": "tJhZJHhwCA3P"
      },
      "source": [
        "# **Klasifikasi apakah pembeli akan membeli motor credit atau cash**\n",
        "\n",
        "*   Fitur yang digunakan = 'TYPE MOTOR', 'JENIS KELAMIN', 'STATUS RUMAH', 'PEKERJAAN', 'PENGELUARAN','PENDIDIKAN', 'SMH DIGUNAKAN UNTUK', 'YG MENGGUNAKAN SMH', 'HOBI'\n",
        "*   besar dp, besar cicilan, lama cicilan akan diganti menjadi CICIL sebagai label\n",
        "\n",
        "\n"
      ]
    },
    {
      "cell_type": "code",
      "metadata": {
        "id": "KjtUA6gOAaB9"
      },
      "source": [
        "import pandas as pd\n",
        "import numpy as np\n",
        "\n",
        "from sklearn.preprocessing import LabelEncoder\n",
        "from sklearn.impute import SimpleImputer\n",
        "from sklearn.model_selection import train_test_split\n",
        "from sklearn.svm import SVC\n",
        "from sklearn.neighbors import KNeighborsClassifier\n",
        "from sklearn.ensemble import RandomForestClassifier\n",
        "from sklearn.tree import DecisionTreeClassifier\n",
        "from sklearn.linear_model import LogisticRegression\n",
        "from sklearn.naive_bayes import GaussianNB\n",
        "from sklearn.metrics import accuracy_score, classification_report, confusion_matrix, roc_curve\n",
        "import matplotlib.pyplot as plt"
      ],
      "execution_count": null,
      "outputs": []
    },
    {
      "cell_type": "code",
      "metadata": {
        "colab": {
          "base_uri": "https://localhost:8080/",
          "height": 431
        },
        "id": "t3rzS1w-AjUF",
        "outputId": "cfd7b7c5-c3a1-456f-ed61-7602d2f345b4"
      },
      "source": [
        "df = pd.read_csv(\"https://raw.githubusercontent.com/MuhammadNurilHuda/Materi/main/dataset/konsumen.csv\", sep=';')\n",
        "df.head(4)"
      ],
      "execution_count": null,
      "outputs": [
        {
          "output_type": "execute_result",
          "data": {
            "text/html": [
              "<div>\n",
              "<style scoped>\n",
              "    .dataframe tbody tr th:only-of-type {\n",
              "        vertical-align: middle;\n",
              "    }\n",
              "\n",
              "    .dataframe tbody tr th {\n",
              "        vertical-align: top;\n",
              "    }\n",
              "\n",
              "    .dataframe thead th {\n",
              "        text-align: right;\n",
              "    }\n",
              "</style>\n",
              "<table border=\"1\" class=\"dataframe\">\n",
              "  <thead>\n",
              "    <tr style=\"text-align: right;\">\n",
              "      <th></th>\n",
              "      <th>SALES DATE</th>\n",
              "      <th>TYPE MOTOR</th>\n",
              "      <th>COLOR</th>\n",
              "      <th>KODE CUSTOMER</th>\n",
              "      <th>JENIS KELAMIN</th>\n",
              "      <th>TANGGAL LAHIR</th>\n",
              "      <th>KECAMATAN SURAT</th>\n",
              "      <th>KOTA SURAT</th>\n",
              "      <th>PROPINSI</th>\n",
              "      <th>STATUS RUMAH</th>\n",
              "      <th>JENIS PENJUALAN STNK</th>\n",
              "      <th>JENIS PENJUALAN SSU</th>\n",
              "      <th>BESAR DP</th>\n",
              "      <th>BESAR CICILAN</th>\n",
              "      <th>LAMA CICILAN</th>\n",
              "      <th>AGAMA</th>\n",
              "      <th>PEKERJAAN</th>\n",
              "      <th>PENGELUARAN</th>\n",
              "      <th>PENDIDIKAN</th>\n",
              "      <th>KEBERSEDIAAN DIHUBUNGI</th>\n",
              "      <th>MERK MOTOR SBLMNYA</th>\n",
              "      <th>TYPE MOTOR SBLMNYA</th>\n",
              "      <th>SMH DIGUNAKAN UNTUK</th>\n",
              "      <th>YG MENGGUNAKAN SMH</th>\n",
              "      <th>HOBI</th>\n",
              "      <th>KETERANGAN</th>\n",
              "      <th>KEWARGANEGARAAN</th>\n",
              "    </tr>\n",
              "  </thead>\n",
              "  <tbody>\n",
              "    <tr>\n",
              "      <th>0</th>\n",
              "      <td>08/08/2019</td>\n",
              "      <td>REVO FIT FI</td>\n",
              "      <td>HITAM</td>\n",
              "      <td>INDIVIDUAL</td>\n",
              "      <td>LAKI-LAKI</td>\n",
              "      <td>25/08/1970</td>\n",
              "      <td>Manyar</td>\n",
              "      <td>Kab. Gresik</td>\n",
              "      <td>Jawa Timur</td>\n",
              "      <td>RUMAH SENDIRI</td>\n",
              "      <td>CASH</td>\n",
              "      <td>CASH</td>\n",
              "      <td>NaN</td>\n",
              "      <td>NaN</td>\n",
              "      <td>NaN</td>\n",
              "      <td>ISLAM</td>\n",
              "      <td>DOKTER</td>\n",
              "      <td>RP 2.000.001,- S/D RP 3.000.000,-</td>\n",
              "      <td>AKADEMI/DIPLOMA</td>\n",
              "      <td>YES</td>\n",
              "      <td>HONDA</td>\n",
              "      <td>AT AUTOMATIC</td>\n",
              "      <td>BERDAGANG</td>\n",
              "      <td>SAYA SENDIRI</td>\n",
              "      <td>Adventure (Petualangan)</td>\n",
              "      <td>NaN</td>\n",
              "      <td>WNI</td>\n",
              "    </tr>\n",
              "    <tr>\n",
              "      <th>1</th>\n",
              "      <td>16/10/2019</td>\n",
              "      <td>REVO FIT FI</td>\n",
              "      <td>HITAM</td>\n",
              "      <td>INDIVIDUAL</td>\n",
              "      <td>LAKI-LAKI</td>\n",
              "      <td>31/03/1972</td>\n",
              "      <td>Driyorejo</td>\n",
              "      <td>Kab. Gresik</td>\n",
              "      <td>Jawa Timur</td>\n",
              "      <td>RUMAH SENDIRI</td>\n",
              "      <td>CASH</td>\n",
              "      <td>CASH</td>\n",
              "      <td>NaN</td>\n",
              "      <td>NaN</td>\n",
              "      <td>NaN</td>\n",
              "      <td>ISLAM</td>\n",
              "      <td>PEGAWAI SWASTA, INDUSTRI</td>\n",
              "      <td>RP 3.000.001,- S/D RP 4.000.000,-</td>\n",
              "      <td>SLTA/SMU</td>\n",
              "      <td>YES</td>\n",
              "      <td>HONDA</td>\n",
              "      <td>SPORT</td>\n",
              "      <td>BERDAGANG</td>\n",
              "      <td>SAYA SENDIRI</td>\n",
              "      <td>Adventure (Petualangan)</td>\n",
              "      <td>NaN</td>\n",
              "      <td>WNI</td>\n",
              "    </tr>\n",
              "    <tr>\n",
              "      <th>2</th>\n",
              "      <td>07/10/2019</td>\n",
              "      <td>REVO FIT FI</td>\n",
              "      <td>HITAM</td>\n",
              "      <td>INDIVIDUAL</td>\n",
              "      <td>LAKI-LAKI</td>\n",
              "      <td>29/12/1998</td>\n",
              "      <td>Cerme</td>\n",
              "      <td>Kab. Gresik</td>\n",
              "      <td>Jawa Timur</td>\n",
              "      <td>RUMAH ORANG TUA / KELUARGA</td>\n",
              "      <td>CASH</td>\n",
              "      <td>CASH</td>\n",
              "      <td>NaN</td>\n",
              "      <td>NaN</td>\n",
              "      <td>NaN</td>\n",
              "      <td>ISLAM</td>\n",
              "      <td>MAHASISWA / PELAJAR</td>\n",
              "      <td>RP 1.000.001,- S/D RP 1.500.000,-</td>\n",
              "      <td>SLTA/SMU</td>\n",
              "      <td>YES</td>\n",
              "      <td>HONDA</td>\n",
              "      <td>SPORT</td>\n",
              "      <td>BERDAGANG</td>\n",
              "      <td>SAYA SENDIRI</td>\n",
              "      <td>Adventure (Petualangan)</td>\n",
              "      <td>NaN</td>\n",
              "      <td>WNI</td>\n",
              "    </tr>\n",
              "    <tr>\n",
              "      <th>3</th>\n",
              "      <td>09/09/2019</td>\n",
              "      <td>REVO FIT FI</td>\n",
              "      <td>HITAM</td>\n",
              "      <td>INDIVIDUAL</td>\n",
              "      <td>LAKI-LAKI</td>\n",
              "      <td>29/01/1983</td>\n",
              "      <td>Menganti</td>\n",
              "      <td>Kab. Gresik</td>\n",
              "      <td>Jawa Timur</td>\n",
              "      <td>RUMAH SENDIRI</td>\n",
              "      <td>CREDIT</td>\n",
              "      <td>CREDIT</td>\n",
              "      <td>1300000.0</td>\n",
              "      <td>634000.0</td>\n",
              "      <td>35.0</td>\n",
              "      <td>ISLAM</td>\n",
              "      <td>PEGAWAI SWASTA, INDUSTRI</td>\n",
              "      <td>RP 1.000.001,- S/D RP 1.500.000,-</td>\n",
              "      <td>SLTA/SMU</td>\n",
              "      <td>YES</td>\n",
              "      <td>HONDA</td>\n",
              "      <td>AT AUTOMATIC</td>\n",
              "      <td>PEMAKAIAN JARAK DEKAT</td>\n",
              "      <td>SAYA SENDIRI</td>\n",
              "      <td>Makan</td>\n",
              "      <td>SOPAN</td>\n",
              "      <td>WNI</td>\n",
              "    </tr>\n",
              "  </tbody>\n",
              "</table>\n",
              "</div>"
            ],
            "text/plain": [
              "   SALES DATE   TYPE MOTOR  ... KETERANGAN KEWARGANEGARAAN\n",
              "0  08/08/2019  REVO FIT FI  ...        NaN             WNI\n",
              "1  16/10/2019  REVO FIT FI  ...        NaN             WNI\n",
              "2  07/10/2019  REVO FIT FI  ...        NaN             WNI\n",
              "3  09/09/2019  REVO FIT FI  ...      SOPAN             WNI\n",
              "\n",
              "[4 rows x 27 columns]"
            ]
          },
          "metadata": {},
          "execution_count": 2
        }
      ]
    },
    {
      "cell_type": "code",
      "metadata": {
        "colab": {
          "base_uri": "https://localhost:8080/"
        },
        "id": "ryrIEbE_AtYl",
        "outputId": "1e9ae7c7-164a-4036-a25e-8ec95b3136e1"
      },
      "source": [
        "# Menampilkan jumlah data null di setiap kolom\n",
        "df.isnull().sum()"
      ],
      "execution_count": null,
      "outputs": [
        {
          "output_type": "execute_result",
          "data": {
            "text/plain": [
              "SALES DATE                    0\n",
              "TYPE MOTOR                    0\n",
              "COLOR                         0\n",
              "KODE CUSTOMER                 0\n",
              "JENIS KELAMIN                 0\n",
              "TANGGAL LAHIR                 0\n",
              "KECAMATAN SURAT               0\n",
              "KOTA SURAT                    0\n",
              "PROPINSI                      0\n",
              "STATUS RUMAH                  0\n",
              "JENIS PENJUALAN STNK          0\n",
              "JENIS PENJUALAN SSU           0\n",
              "BESAR DP                   7688\n",
              "BESAR CICILAN              7688\n",
              "LAMA CICILAN               7688\n",
              "AGAMA                         0\n",
              "PEKERJAAN                     0\n",
              "PENGELUARAN                   0\n",
              "PENDIDIKAN                    0\n",
              "KEBERSEDIAAN DIHUBUNGI        0\n",
              "MERK MOTOR SBLMNYA            0\n",
              "TYPE MOTOR SBLMNYA            0\n",
              "SMH DIGUNAKAN UNTUK           0\n",
              "YG MENGGUNAKAN SMH            0\n",
              "HOBI                          0\n",
              "KETERANGAN                11354\n",
              "KEWARGANEGARAAN               6\n",
              "dtype: int64"
            ]
          },
          "metadata": {},
          "execution_count": 3
        }
      ]
    },
    {
      "cell_type": "code",
      "metadata": {
        "colab": {
          "base_uri": "https://localhost:8080/",
          "height": 297
        },
        "id": "MyEJavurAx7a",
        "outputId": "de3dd359-1a00-4c1e-b6ef-76895420c4fa"
      },
      "source": [
        "df.describe()"
      ],
      "execution_count": null,
      "outputs": [
        {
          "output_type": "execute_result",
          "data": {
            "text/html": [
              "<div>\n",
              "<style scoped>\n",
              "    .dataframe tbody tr th:only-of-type {\n",
              "        vertical-align: middle;\n",
              "    }\n",
              "\n",
              "    .dataframe tbody tr th {\n",
              "        vertical-align: top;\n",
              "    }\n",
              "\n",
              "    .dataframe thead th {\n",
              "        text-align: right;\n",
              "    }\n",
              "</style>\n",
              "<table border=\"1\" class=\"dataframe\">\n",
              "  <thead>\n",
              "    <tr style=\"text-align: right;\">\n",
              "      <th></th>\n",
              "      <th>BESAR DP</th>\n",
              "      <th>BESAR CICILAN</th>\n",
              "      <th>LAMA CICILAN</th>\n",
              "    </tr>\n",
              "  </thead>\n",
              "  <tbody>\n",
              "    <tr>\n",
              "      <th>count</th>\n",
              "      <td>1.092800e+04</td>\n",
              "      <td>1.092800e+04</td>\n",
              "      <td>10928.000000</td>\n",
              "    </tr>\n",
              "    <tr>\n",
              "      <th>mean</th>\n",
              "      <td>4.041772e+06</td>\n",
              "      <td>9.614827e+05</td>\n",
              "      <td>29.467972</td>\n",
              "    </tr>\n",
              "    <tr>\n",
              "      <th>std</th>\n",
              "      <td>3.207775e+06</td>\n",
              "      <td>4.741369e+05</td>\n",
              "      <td>7.899691</td>\n",
              "    </tr>\n",
              "    <tr>\n",
              "      <th>min</th>\n",
              "      <td>1.000000e+00</td>\n",
              "      <td>3.000000e+01</td>\n",
              "      <td>2.000000</td>\n",
              "    </tr>\n",
              "    <tr>\n",
              "      <th>25%</th>\n",
              "      <td>2.100000e+06</td>\n",
              "      <td>7.310000e+05</td>\n",
              "      <td>23.000000</td>\n",
              "    </tr>\n",
              "    <tr>\n",
              "      <th>50%</th>\n",
              "      <td>3.000000e+06</td>\n",
              "      <td>8.490000e+05</td>\n",
              "      <td>35.000000</td>\n",
              "    </tr>\n",
              "    <tr>\n",
              "      <th>75%</th>\n",
              "      <td>5.000000e+06</td>\n",
              "      <td>1.083000e+06</td>\n",
              "      <td>35.000000</td>\n",
              "    </tr>\n",
              "    <tr>\n",
              "      <th>max</th>\n",
              "      <td>1.090000e+08</td>\n",
              "      <td>1.447000e+07</td>\n",
              "      <td>36.000000</td>\n",
              "    </tr>\n",
              "  </tbody>\n",
              "</table>\n",
              "</div>"
            ],
            "text/plain": [
              "           BESAR DP  BESAR CICILAN  LAMA CICILAN\n",
              "count  1.092800e+04   1.092800e+04  10928.000000\n",
              "mean   4.041772e+06   9.614827e+05     29.467972\n",
              "std    3.207775e+06   4.741369e+05      7.899691\n",
              "min    1.000000e+00   3.000000e+01      2.000000\n",
              "25%    2.100000e+06   7.310000e+05     23.000000\n",
              "50%    3.000000e+06   8.490000e+05     35.000000\n",
              "75%    5.000000e+06   1.083000e+06     35.000000\n",
              "max    1.090000e+08   1.447000e+07     36.000000"
            ]
          },
          "metadata": {},
          "execution_count": 4
        }
      ]
    },
    {
      "cell_type": "code",
      "metadata": {
        "id": "2WrLqkJDMxO7"
      },
      "source": [
        "# memilih kolom yang digunakan\n",
        "used_feature = ['TYPE MOTOR', 'JENIS KELAMIN', 'STATUS RUMAH', 'PEKERJAAN', 'PENGELUARAN','PENDIDIKAN', 'SMH DIGUNAKAN UNTUK', 'YG MENGGUNAKAN SMH', 'HOBI']"
      ],
      "execution_count": null,
      "outputs": []
    },
    {
      "cell_type": "code",
      "metadata": {
        "colab": {
          "base_uri": "https://localhost:8080/"
        },
        "id": "dsSH2U7NN1Rm",
        "outputId": "bc82e41a-f12e-4f65-92ea-465c1583f8cb"
      },
      "source": [
        "# Menampilkan unique values dari setiap kolom yang digunakan\n",
        "for i in used_feature:\n",
        "    print(f\"Unique value dari kolom {i} : {df[i].unique()}\\n\")"
      ],
      "execution_count": null,
      "outputs": [
        {
          "output_type": "stream",
          "name": "stdout",
          "text": [
            "Unique value dari kolom TYPE MOTOR : ['REVO FIT FI' 'REVO CW FI' 'NEW SUPRA X 125 FI SW'\n",
            " 'NEW SUPRA X 125 FI CW' 'BEAT POP CBS ISS' 'NEW VARIO 125 CBS ISS'\n",
            " 'BEAT SPORTY CW' 'BEAT STREET CBS' 'BEAT SPORTY CBS ISS'\n",
            " 'BEAT SPORTY CBS' 'ALL NEW SCOOPY' 'VARIO 125 CBS' 'VARIO 125 CBS ISS'\n",
            " 'GENIO CBS' 'GENIO CBS ISS' 'ALL NEW SONIC 150 R' 'SUPRA GTR 150'\n",
            " 'CB150 VERZA SW' 'CB150 VERZA CW' 'ALL NEW CBR150R' 'NEW CBR 150R STD'\n",
            " 'NEW CBR 150R ABS' 'CB150R STREETFIRE STD' 'CB150R STREETFIRE SE'\n",
            " 'CRF150L' 'PCX 150 CBS' 'PCX 150 ABS' 'PCX HYBRID' 'VARIO 150'\n",
            " 'ADV150 CBS' 'ADV150 ABS' 'CBR 250RR STD' 'CBR 250RR ABS' 'FORZA'\n",
            " 'SUPER CUB C125' 'NEW VARIO 150']\n",
            "\n",
            "Unique value dari kolom JENIS KELAMIN : ['LAKI-LAKI' 'PEREMPUAN']\n",
            "\n",
            "Unique value dari kolom STATUS RUMAH : ['RUMAH SENDIRI' 'RUMAH ORANG TUA / KELUARGA' 'RUMAH SEWA']\n",
            "\n",
            "Unique value dari kolom PEKERJAAN : ['DOKTER' 'PEGAWAI SWASTA, INDUSTRI' 'MAHASISWA / PELAJAR'\n",
            " 'WIRASWASTA / PEDAGANG, PERTANIAN / PERKEBUNAN / KEHUTANAN / PERIKANAN / PETERNAKAN'\n",
            " 'WIRASWASTA / PEDAGANG, INDUSTRI' 'TNI/POLRI' 'IBU RUMAH TANGGA'\n",
            " 'PEGAWAI NEGERI' 'PEGAWAI SWASTA, JASA'\n",
            " 'WIRASWASTA / PEDAGANG, PERDAGANGAN (RETAIL)' 'GURU/ DOSEN'\n",
            " 'PEGAWAI SWASTA, PERTANIAN / PERKEBUNAN / KEHUTANAN / PERIKANAN / PETERNAKAN'\n",
            " 'PETANI' 'PENGACARA' 'PEGAWAI SWASTA, KONSTRUKSI'\n",
            " 'WIRASWASTA / PEDAGANG, JASA' 'WIRASWASTA / PEDAGANG, PERTAMBANGAN'\n",
            " 'WIRASWASTA / PEDAGANG, KONSTRUKSI'\n",
            " 'PEGAWAI SWASTA, PERDAGANGAN (RETAIL)' 'PEGAWAI SWASTA, PERTAMBANGAN'\n",
            " 'OJEK' 'LAIN-LAIN' 'NELAYAN' 'PEGAWAI SWASTA']\n",
            "\n",
            "Unique value dari kolom PENGELUARAN : ['RP 2.000.001,- S/D RP 3.000.000,-' 'RP 3.000.001,- S/D RP 4.000.000,-'\n",
            " 'RP 1.000.001,- S/D RP 1.500.000,-' 'RP 700.001,- S/D RP 1.000.000,-'\n",
            " 'RP 1.500.001,- S/D RP 2.000.000,-' '<= RP 700.000,-' '> RP 4.000.000,-']\n",
            "\n",
            "Unique value dari kolom PENDIDIKAN : ['AKADEMI/DIPLOMA' 'SLTA/SMU' 'SLTP/SMP' 'SARJANA' 'SD' 'PASCA SARJANA'\n",
            " 'TIDAK TAMAT SD']\n",
            "\n",
            "Unique value dari kolom SMH DIGUNAKAN UNTUK : ['BERDAGANG' 'PEMAKAIAN JARAK DEKAT' 'KEBUTUHAN KELUARGA' 'LAIN-LAIN'\n",
            " 'KE SEKOLAH/ KE KAMPUS' 'BEKERJA' 'REKREASI/ OLAH RAGA']\n",
            "\n",
            "Unique value dari kolom YG MENGGUNAKAN SMH : ['SAYA SENDIRI' 'ANAK' 'PASANGAN SUAMI ATAU ISTRI' 'LAIN-LAIN']\n",
            "\n",
            "Unique value dari kolom HOBI : ['Adventure (Petualangan)' 'Makan' 'Membaca' 'Memancing' 'Melukis'\n",
            " 'Volley' 'Massage' 'Memasak' 'Menyanyi' 'Sepakbola' 'Chatting' 'Jogging'\n",
            " 'Mendengarkan Radio' 'Memelihara Binatang Peliharaan' 'Membaca Puisi'\n",
            " 'Bersepeda ' 'Otomotif' 'Menjahit' 'Mengoleksi Barang Antik' 'Shopping'\n",
            " 'Bercocok Tanam' 'Golf' 'Renang' 'Badminton' 'Mendongeng' 'Mengaji'\n",
            " 'Travelling' 'Menanam Bunga' 'Senam' 'Fotografi' 'Bermain Komputer'\n",
            " 'Menonton TV' 'Berkaraoke' 'Surat Menyurat' 'Menggambar' 'Basket'\n",
            " 'Menari' 'Bermain Drama' 'Browsing Internet' 'Menonton Film' 'Fitness'\n",
            " 'Mendengarkan Musik' 'Menulis Buku' 'Sepatu Roda'\n",
            " 'Koleksi Perangko (Fillateli)' 'Bermain Games' 'Mengarang Cerita' 'Yoga'\n",
            " 'Origami' 'Menonton Bioskop' 'Bermain Sulap ' 'Aeromodeling' 'Bowling'\n",
            " 'Bermain Musik' 'Pantomim' 'Tennis']\n",
            "\n"
          ]
        }
      ]
    },
    {
      "cell_type": "markdown",
      "metadata": {
        "id": "U_trbKAQTHgj"
      },
      "source": [
        "## **Encode Categorical data**\n",
        "\n",
        "---\n",
        "\n",
        "\n",
        "> referensi : https://towardsdatascience.com/categorical-encoding-using-label-encoding-and-one-hot-encoder-911ef77fb5bd\n",
        "\n",
        "\n",
        "Menggunakan Label Encoder"
      ]
    },
    {
      "cell_type": "code",
      "metadata": {
        "colab": {
          "base_uri": "https://localhost:8080/",
          "height": 142
        },
        "id": "X5FSigEROSDw",
        "outputId": "bbc71220-515b-4a8a-a89a-a4a71dce4df0"
      },
      "source": [
        "le = LabelEncoder()\n",
        "df[used_feature] = df[used_feature].apply(le.fit_transform)\n",
        "df[used_feature].head(3)"
      ],
      "execution_count": null,
      "outputs": [
        {
          "output_type": "execute_result",
          "data": {
            "text/html": [
              "<div>\n",
              "<style scoped>\n",
              "    .dataframe tbody tr th:only-of-type {\n",
              "        vertical-align: middle;\n",
              "    }\n",
              "\n",
              "    .dataframe tbody tr th {\n",
              "        vertical-align: top;\n",
              "    }\n",
              "\n",
              "    .dataframe thead th {\n",
              "        text-align: right;\n",
              "    }\n",
              "</style>\n",
              "<table border=\"1\" class=\"dataframe\">\n",
              "  <thead>\n",
              "    <tr style=\"text-align: right;\">\n",
              "      <th></th>\n",
              "      <th>TYPE MOTOR</th>\n",
              "      <th>JENIS KELAMIN</th>\n",
              "      <th>STATUS RUMAH</th>\n",
              "      <th>PEKERJAAN</th>\n",
              "      <th>PENGELUARAN</th>\n",
              "      <th>PENDIDIKAN</th>\n",
              "      <th>SMH DIGUNAKAN UNTUK</th>\n",
              "      <th>YG MENGGUNAKAN SMH</th>\n",
              "      <th>HOBI</th>\n",
              "    </tr>\n",
              "  </thead>\n",
              "  <tbody>\n",
              "    <tr>\n",
              "      <th>0</th>\n",
              "      <td>30</td>\n",
              "      <td>0</td>\n",
              "      <td>1</td>\n",
              "      <td>0</td>\n",
              "      <td>4</td>\n",
              "      <td>0</td>\n",
              "      <td>1</td>\n",
              "      <td>3</td>\n",
              "      <td>0</td>\n",
              "    </tr>\n",
              "    <tr>\n",
              "      <th>1</th>\n",
              "      <td>30</td>\n",
              "      <td>0</td>\n",
              "      <td>1</td>\n",
              "      <td>9</td>\n",
              "      <td>5</td>\n",
              "      <td>4</td>\n",
              "      <td>1</td>\n",
              "      <td>3</td>\n",
              "      <td>0</td>\n",
              "    </tr>\n",
              "    <tr>\n",
              "      <th>2</th>\n",
              "      <td>30</td>\n",
              "      <td>0</td>\n",
              "      <td>0</td>\n",
              "      <td>4</td>\n",
              "      <td>2</td>\n",
              "      <td>4</td>\n",
              "      <td>1</td>\n",
              "      <td>3</td>\n",
              "      <td>0</td>\n",
              "    </tr>\n",
              "  </tbody>\n",
              "</table>\n",
              "</div>"
            ],
            "text/plain": [
              "   TYPE MOTOR  JENIS KELAMIN  ...  YG MENGGUNAKAN SMH  HOBI\n",
              "0          30              0  ...                   3     0\n",
              "1          30              0  ...                   3     0\n",
              "2          30              0  ...                   3     0\n",
              "\n",
              "[3 rows x 9 columns]"
            ]
          },
          "metadata": {},
          "execution_count": 7
        }
      ]
    },
    {
      "cell_type": "markdown",
      "metadata": {
        "id": "AviqyghW-Uah"
      },
      "source": [
        "Mengubah kolom besar dp menjadi kolom cicil dengan asumsi semua yang membayar dp pasti menyicil"
      ]
    },
    {
      "cell_type": "code",
      "metadata": {
        "id": "D7vwasDgesM7"
      },
      "source": [
        "df = df.rename(columns={'BESAR DP':'CICIL'})"
      ],
      "execution_count": null,
      "outputs": []
    },
    {
      "cell_type": "code",
      "metadata": {
        "id": "-oYgjBWgesRn",
        "colab": {
          "base_uri": "https://localhost:8080/",
          "height": 151
        },
        "outputId": "0d15c797-e955-4be4-de37-0a8eb0f4f557"
      },
      "source": [
        "df.head(1)"
      ],
      "execution_count": null,
      "outputs": [
        {
          "output_type": "execute_result",
          "data": {
            "text/html": [
              "<div>\n",
              "<style scoped>\n",
              "    .dataframe tbody tr th:only-of-type {\n",
              "        vertical-align: middle;\n",
              "    }\n",
              "\n",
              "    .dataframe tbody tr th {\n",
              "        vertical-align: top;\n",
              "    }\n",
              "\n",
              "    .dataframe thead th {\n",
              "        text-align: right;\n",
              "    }\n",
              "</style>\n",
              "<table border=\"1\" class=\"dataframe\">\n",
              "  <thead>\n",
              "    <tr style=\"text-align: right;\">\n",
              "      <th></th>\n",
              "      <th>SALES DATE</th>\n",
              "      <th>TYPE MOTOR</th>\n",
              "      <th>COLOR</th>\n",
              "      <th>KODE CUSTOMER</th>\n",
              "      <th>JENIS KELAMIN</th>\n",
              "      <th>TANGGAL LAHIR</th>\n",
              "      <th>KECAMATAN SURAT</th>\n",
              "      <th>KOTA SURAT</th>\n",
              "      <th>PROPINSI</th>\n",
              "      <th>STATUS RUMAH</th>\n",
              "      <th>JENIS PENJUALAN STNK</th>\n",
              "      <th>JENIS PENJUALAN SSU</th>\n",
              "      <th>CICIL</th>\n",
              "      <th>BESAR CICILAN</th>\n",
              "      <th>LAMA CICILAN</th>\n",
              "      <th>AGAMA</th>\n",
              "      <th>PEKERJAAN</th>\n",
              "      <th>PENGELUARAN</th>\n",
              "      <th>PENDIDIKAN</th>\n",
              "      <th>KEBERSEDIAAN DIHUBUNGI</th>\n",
              "      <th>MERK MOTOR SBLMNYA</th>\n",
              "      <th>TYPE MOTOR SBLMNYA</th>\n",
              "      <th>SMH DIGUNAKAN UNTUK</th>\n",
              "      <th>YG MENGGUNAKAN SMH</th>\n",
              "      <th>HOBI</th>\n",
              "      <th>KETERANGAN</th>\n",
              "      <th>KEWARGANEGARAAN</th>\n",
              "    </tr>\n",
              "  </thead>\n",
              "  <tbody>\n",
              "    <tr>\n",
              "      <th>0</th>\n",
              "      <td>08/08/2019</td>\n",
              "      <td>30</td>\n",
              "      <td>HITAM</td>\n",
              "      <td>INDIVIDUAL</td>\n",
              "      <td>0</td>\n",
              "      <td>25/08/1970</td>\n",
              "      <td>Manyar</td>\n",
              "      <td>Kab. Gresik</td>\n",
              "      <td>Jawa Timur</td>\n",
              "      <td>1</td>\n",
              "      <td>CASH</td>\n",
              "      <td>CASH</td>\n",
              "      <td>NaN</td>\n",
              "      <td>NaN</td>\n",
              "      <td>NaN</td>\n",
              "      <td>ISLAM</td>\n",
              "      <td>0</td>\n",
              "      <td>4</td>\n",
              "      <td>0</td>\n",
              "      <td>YES</td>\n",
              "      <td>HONDA</td>\n",
              "      <td>AT AUTOMATIC</td>\n",
              "      <td>1</td>\n",
              "      <td>3</td>\n",
              "      <td>0</td>\n",
              "      <td>NaN</td>\n",
              "      <td>WNI</td>\n",
              "    </tr>\n",
              "  </tbody>\n",
              "</table>\n",
              "</div>"
            ],
            "text/plain": [
              "   SALES DATE  TYPE MOTOR  COLOR  ... HOBI  KETERANGAN KEWARGANEGARAAN\n",
              "0  08/08/2019          30  HITAM  ...    0         NaN             WNI\n",
              "\n",
              "[1 rows x 27 columns]"
            ]
          },
          "metadata": {},
          "execution_count": 9
        }
      ]
    },
    {
      "cell_type": "code",
      "metadata": {
        "id": "0PnixxVPesVD"
      },
      "source": [
        "# Menentukan cicil sebagai label\n",
        "label=['CICIL']"
      ],
      "execution_count": null,
      "outputs": []
    },
    {
      "cell_type": "code",
      "metadata": {
        "id": "uDRpHzrzesYT",
        "colab": {
          "base_uri": "https://localhost:8080/"
        },
        "outputId": "82115338-ec09-4b11-d1b3-033bc5dbd9b5"
      },
      "source": [
        "df[used_feature].isnull().sum()"
      ],
      "execution_count": null,
      "outputs": [
        {
          "output_type": "execute_result",
          "data": {
            "text/plain": [
              "TYPE MOTOR             0\n",
              "JENIS KELAMIN          0\n",
              "STATUS RUMAH           0\n",
              "PEKERJAAN              0\n",
              "PENGELUARAN            0\n",
              "PENDIDIKAN             0\n",
              "SMH DIGUNAKAN UNTUK    0\n",
              "YG MENGGUNAKAN SMH     0\n",
              "HOBI                   0\n",
              "dtype: int64"
            ]
          },
          "metadata": {},
          "execution_count": 11
        }
      ]
    },
    {
      "cell_type": "code",
      "metadata": {
        "id": "ylZCj1GQesbk",
        "colab": {
          "base_uri": "https://localhost:8080/"
        },
        "outputId": "b080f029-554c-4843-c851-7ca6bc584676"
      },
      "source": [
        "df[label].isnull().sum()"
      ],
      "execution_count": null,
      "outputs": [
        {
          "output_type": "execute_result",
          "data": {
            "text/plain": [
              "CICIL    7688\n",
              "dtype: int64"
            ]
          },
          "metadata": {},
          "execution_count": 12
        }
      ]
    },
    {
      "cell_type": "markdown",
      "metadata": {
        "id": "osl69cI_CB-L"
      },
      "source": [
        "Mengubah value dari cicil\n",
        "\n",
        "1 = menyicil\n",
        "\n",
        "0 = cash"
      ]
    },
    {
      "cell_type": "markdown",
      "metadata": {
        "id": "pp84GspIpyFw"
      },
      "source": [
        "## Mengisi Missing Value"
      ]
    },
    {
      "cell_type": "code",
      "metadata": {
        "colab": {
          "base_uri": "https://localhost:8080/",
          "height": 204
        },
        "id": "TRHs7-2p_5MT",
        "outputId": "b5faca6c-822f-4fa8-e4b2-8dbfcbc3a9a0"
      },
      "source": [
        "# memberi value 0 untuk yang tidak menyicil\n",
        "imputer = SimpleImputer(missing_values=np.NaN, strategy='constant', fill_value=0)\n",
        "df[label] = imputer.fit_transform(df[label])\n",
        "df[label].head(5)"
      ],
      "execution_count": null,
      "outputs": [
        {
          "output_type": "execute_result",
          "data": {
            "text/html": [
              "<div>\n",
              "<style scoped>\n",
              "    .dataframe tbody tr th:only-of-type {\n",
              "        vertical-align: middle;\n",
              "    }\n",
              "\n",
              "    .dataframe tbody tr th {\n",
              "        vertical-align: top;\n",
              "    }\n",
              "\n",
              "    .dataframe thead th {\n",
              "        text-align: right;\n",
              "    }\n",
              "</style>\n",
              "<table border=\"1\" class=\"dataframe\">\n",
              "  <thead>\n",
              "    <tr style=\"text-align: right;\">\n",
              "      <th></th>\n",
              "      <th>CICIL</th>\n",
              "    </tr>\n",
              "  </thead>\n",
              "  <tbody>\n",
              "    <tr>\n",
              "      <th>0</th>\n",
              "      <td>0.0</td>\n",
              "    </tr>\n",
              "    <tr>\n",
              "      <th>1</th>\n",
              "      <td>0.0</td>\n",
              "    </tr>\n",
              "    <tr>\n",
              "      <th>2</th>\n",
              "      <td>0.0</td>\n",
              "    </tr>\n",
              "    <tr>\n",
              "      <th>3</th>\n",
              "      <td>1300000.0</td>\n",
              "    </tr>\n",
              "    <tr>\n",
              "      <th>4</th>\n",
              "      <td>0.0</td>\n",
              "    </tr>\n",
              "  </tbody>\n",
              "</table>\n",
              "</div>"
            ],
            "text/plain": [
              "       CICIL\n",
              "0        0.0\n",
              "1        0.0\n",
              "2        0.0\n",
              "3  1300000.0\n",
              "4        0.0"
            ]
          },
          "metadata": {},
          "execution_count": 13
        }
      ]
    },
    {
      "cell_type": "code",
      "metadata": {
        "colab": {
          "base_uri": "https://localhost:8080/"
        },
        "id": "KQdwEzCiFTeI",
        "outputId": "179026f7-4212-40ec-a404-b2d90b98c513"
      },
      "source": [
        "# mengubah tipe data menjadi float\n",
        "df[label] = df[label].astype(np.float64)\n",
        "df[label].sum()"
      ],
      "execution_count": null,
      "outputs": [
        {
          "output_type": "execute_result",
          "data": {
            "text/plain": [
              "CICIL    4.416849e+10\n",
              "dtype: float64"
            ]
          },
          "metadata": {},
          "execution_count": 14
        }
      ]
    },
    {
      "cell_type": "code",
      "metadata": {
        "id": "OrballKKJ-gC"
      },
      "source": [
        "# memberi value 1 untuk yang menyicil\n",
        "for i in df['CICIL']:\n",
        "    if i != 0: # Jika value tidak 0, mengganti dengan nilai 1\n",
        "        df['CICIL'].replace(i, 1, inplace = True)"
      ],
      "execution_count": null,
      "outputs": []
    },
    {
      "cell_type": "code",
      "metadata": {
        "colab": {
          "base_uri": "https://localhost:8080/",
          "height": 204
        },
        "id": "oyxg14eaJ5Tp",
        "outputId": "cc4dde94-7ed8-47c3-aef6-26de1136bb98"
      },
      "source": [
        "df[label].head(5)"
      ],
      "execution_count": null,
      "outputs": [
        {
          "output_type": "execute_result",
          "data": {
            "text/html": [
              "<div>\n",
              "<style scoped>\n",
              "    .dataframe tbody tr th:only-of-type {\n",
              "        vertical-align: middle;\n",
              "    }\n",
              "\n",
              "    .dataframe tbody tr th {\n",
              "        vertical-align: top;\n",
              "    }\n",
              "\n",
              "    .dataframe thead th {\n",
              "        text-align: right;\n",
              "    }\n",
              "</style>\n",
              "<table border=\"1\" class=\"dataframe\">\n",
              "  <thead>\n",
              "    <tr style=\"text-align: right;\">\n",
              "      <th></th>\n",
              "      <th>CICIL</th>\n",
              "    </tr>\n",
              "  </thead>\n",
              "  <tbody>\n",
              "    <tr>\n",
              "      <th>0</th>\n",
              "      <td>0.0</td>\n",
              "    </tr>\n",
              "    <tr>\n",
              "      <th>1</th>\n",
              "      <td>0.0</td>\n",
              "    </tr>\n",
              "    <tr>\n",
              "      <th>2</th>\n",
              "      <td>0.0</td>\n",
              "    </tr>\n",
              "    <tr>\n",
              "      <th>3</th>\n",
              "      <td>1.0</td>\n",
              "    </tr>\n",
              "    <tr>\n",
              "      <th>4</th>\n",
              "      <td>0.0</td>\n",
              "    </tr>\n",
              "  </tbody>\n",
              "</table>\n",
              "</div>"
            ],
            "text/plain": [
              "   CICIL\n",
              "0    0.0\n",
              "1    0.0\n",
              "2    0.0\n",
              "3    1.0\n",
              "4    0.0"
            ]
          },
          "metadata": {},
          "execution_count": 16
        }
      ]
    },
    {
      "cell_type": "markdown",
      "metadata": {
        "id": "7NXI0kU9TBIW"
      },
      "source": [
        "## Modelling\n",
        "\n",
        "Menggunakan SVM, KNN, Random Forest, Naive Bayes, dan Logistic Regression"
      ]
    },
    {
      "cell_type": "code",
      "metadata": {
        "id": "xwbzjnFWLr5b"
      },
      "source": [
        "X = df[used_feature]\n",
        "y = df[label]"
      ],
      "execution_count": null,
      "outputs": []
    },
    {
      "cell_type": "code",
      "metadata": {
        "id": "zXKeCUrYLsDm"
      },
      "source": [
        "X_train, X_test, y_train, y_test = train_test_split(X, y, test_size=0.2, random_state=42)"
      ],
      "execution_count": null,
      "outputs": []
    },
    {
      "cell_type": "code",
      "metadata": {
        "colab": {
          "base_uri": "https://localhost:8080/"
        },
        "id": "sYpCl8X0LsKF",
        "outputId": "90ab500e-2131-47d5-9649-51a408b13110"
      },
      "source": [
        "# SVM\n",
        "clf_svc = SVC(C=1, kernel='linear', gamma='scale')\n",
        "clf_svc.fit(X_train, y_train)\n",
        "\n",
        "# prediction result\n",
        "y_pred = clf_svc.predict(X_test)\n",
        "print(accuracy_score(y_test,y_pred))"
      ],
      "execution_count": null,
      "outputs": [
        {
          "output_type": "stream",
          "name": "stderr",
          "text": [
            "/usr/local/lib/python3.7/dist-packages/sklearn/utils/validation.py:760: DataConversionWarning: A column-vector y was passed when a 1d array was expected. Please change the shape of y to (n_samples, ), for example using ravel().\n",
            "  y = column_or_1d(y, warn=True)\n"
          ]
        },
        {
          "output_type": "stream",
          "name": "stdout",
          "text": [
            "0.5778732545649838\n"
          ]
        }
      ]
    },
    {
      "cell_type": "code",
      "metadata": {
        "colab": {
          "base_uri": "https://localhost:8080/"
        },
        "id": "xKaxWh7kLsQB",
        "outputId": "41e31a6b-c08f-4554-966f-9a4e5c2aedc7"
      },
      "source": [
        "# KNeighborsClassifier\n",
        "clf_knn=KNeighborsClassifier(n_neighbors=2, algorithm='auto',weights='uniform', leaf_size=30)\n",
        "clf_knn.fit(X_train, y_train)\n",
        "\n",
        "# prediction result\n",
        "y_pred = clf_knn.predict(X_test)\n",
        "print(accuracy_score(y_test,y_pred))"
      ],
      "execution_count": null,
      "outputs": [
        {
          "output_type": "stream",
          "name": "stdout",
          "text": [
            "0.6769602577873255\n"
          ]
        },
        {
          "output_type": "stream",
          "name": "stderr",
          "text": [
            "/usr/local/lib/python3.7/dist-packages/ipykernel_launcher.py:3: DataConversionWarning: A column-vector y was passed when a 1d array was expected. Please change the shape of y to (n_samples, ), for example using ravel().\n",
            "  This is separate from the ipykernel package so we can avoid doing imports until\n"
          ]
        }
      ]
    },
    {
      "cell_type": "code",
      "metadata": {
        "colab": {
          "base_uri": "https://localhost:8080/"
        },
        "id": "aSKBSEYlLsVn",
        "outputId": "b16ffd8d-1d4e-40e7-91a6-fdea60b536c7"
      },
      "source": [
        "# Random Forest\n",
        "clf_rf=RandomForestClassifier(n_estimators=5, criterion='entropy', random_state=42, max_depth=6)\n",
        "clf_rf.fit(X_train, y_train)\n",
        "\n",
        "# prediction result\n",
        "y_pred = clf_rf.predict(X_test)\n",
        "print(accuracy_score(y_test,y_pred))"
      ],
      "execution_count": null,
      "outputs": [
        {
          "output_type": "stream",
          "name": "stdout",
          "text": [
            "0.6162728249194415\n"
          ]
        },
        {
          "output_type": "stream",
          "name": "stderr",
          "text": [
            "/usr/local/lib/python3.7/dist-packages/ipykernel_launcher.py:3: DataConversionWarning: A column-vector y was passed when a 1d array was expected. Please change the shape of y to (n_samples,), for example using ravel().\n",
            "  This is separate from the ipykernel package so we can avoid doing imports until\n"
          ]
        }
      ]
    },
    {
      "cell_type": "code",
      "metadata": {
        "colab": {
          "base_uri": "https://localhost:8080/"
        },
        "id": "V8r3jt15R8I5",
        "outputId": "866f4243-cfa3-41db-e3cd-31f68946662e"
      },
      "source": [
        "# Naive Bayes\n",
        "clf_nb=GaussianNB()\n",
        "clf_nb.fit(X_train, y_train)\n",
        "\n",
        "# prediction result\n",
        "y_pred = clf_nb.predict(X_test)\n",
        "print(accuracy_score(y_test,y_pred))"
      ],
      "execution_count": null,
      "outputs": [
        {
          "output_type": "stream",
          "name": "stdout",
          "text": [
            "0.585123523093448\n"
          ]
        },
        {
          "output_type": "stream",
          "name": "stderr",
          "text": [
            "/usr/local/lib/python3.7/dist-packages/sklearn/naive_bayes.py:206: DataConversionWarning: A column-vector y was passed when a 1d array was expected. Please change the shape of y to (n_samples, ), for example using ravel().\n",
            "  y = column_or_1d(y, warn=True)\n"
          ]
        }
      ]
    },
    {
      "cell_type": "code",
      "metadata": {
        "colab": {
          "base_uri": "https://localhost:8080/"
        },
        "id": "7eHNvwwpR9bu",
        "outputId": "a0023d53-6693-471a-8570-766bfd37fc0c"
      },
      "source": [
        "# Logistic Regression\n",
        "clf_lr=LogisticRegression(C=2, solver='liblinear', multi_class='auto')\n",
        "clf_lr.fit(X_train, y_train)\n",
        "\n",
        "# prediction result\n",
        "y_pred = clf_lr.predict(X_test)\n",
        "print(accuracy_score(y_test,y_pred))"
      ],
      "execution_count": null,
      "outputs": [
        {
          "output_type": "stream",
          "name": "stdout",
          "text": [
            "0.5714285714285714\n"
          ]
        },
        {
          "output_type": "stream",
          "name": "stderr",
          "text": [
            "/usr/local/lib/python3.7/dist-packages/sklearn/utils/validation.py:760: DataConversionWarning: A column-vector y was passed when a 1d array was expected. Please change the shape of y to (n_samples, ), for example using ravel().\n",
            "  y = column_or_1d(y, warn=True)\n"
          ]
        }
      ]
    },
    {
      "cell_type": "markdown",
      "metadata": {
        "id": "YcnOnlC0TOpm"
      },
      "source": [
        "Terlihat Akurasi tertinggi didapatkan oleh KNN sebesar 67%"
      ]
    },
    {
      "cell_type": "markdown",
      "metadata": {
        "id": "PMbaOqA4phba"
      },
      "source": [
        "## Save Model"
      ]
    },
    {
      "cell_type": "code",
      "metadata": {
        "id": "VN2VYpp_nh_x"
      },
      "source": [
        "import pickle\n",
        "filename = 'konsumen.sav'\n",
        "pickle.dump(clf_knn, open(filename, 'wb'))"
      ],
      "execution_count": null,
      "outputs": []
    },
    {
      "cell_type": "code",
      "metadata": {
        "colab": {
          "base_uri": "https://localhost:8080/",
          "height": 142
        },
        "id": "b92bbPbxSu82",
        "outputId": "16cebfee-106c-44a2-a360-2eea2fa6cdec"
      },
      "source": [
        "df.groupby('CICIL').sum()"
      ],
      "execution_count": null,
      "outputs": [
        {
          "output_type": "execute_result",
          "data": {
            "text/html": [
              "<div>\n",
              "<style scoped>\n",
              "    .dataframe tbody tr th:only-of-type {\n",
              "        vertical-align: middle;\n",
              "    }\n",
              "\n",
              "    .dataframe tbody tr th {\n",
              "        vertical-align: top;\n",
              "    }\n",
              "\n",
              "    .dataframe thead th {\n",
              "        text-align: right;\n",
              "    }\n",
              "</style>\n",
              "<table border=\"1\" class=\"dataframe\">\n",
              "  <thead>\n",
              "    <tr style=\"text-align: right;\">\n",
              "      <th></th>\n",
              "      <th>TYPE MOTOR</th>\n",
              "      <th>JENIS KELAMIN</th>\n",
              "      <th>STATUS RUMAH</th>\n",
              "      <th>BESAR CICILAN</th>\n",
              "      <th>LAMA CICILAN</th>\n",
              "      <th>PEKERJAAN</th>\n",
              "      <th>PENGELUARAN</th>\n",
              "      <th>PENDIDIKAN</th>\n",
              "      <th>SMH DIGUNAKAN UNTUK</th>\n",
              "      <th>YG MENGGUNAKAN SMH</th>\n",
              "      <th>HOBI</th>\n",
              "    </tr>\n",
              "    <tr>\n",
              "      <th>CICIL</th>\n",
              "      <th></th>\n",
              "      <th></th>\n",
              "      <th></th>\n",
              "      <th></th>\n",
              "      <th></th>\n",
              "      <th></th>\n",
              "      <th></th>\n",
              "      <th></th>\n",
              "      <th></th>\n",
              "      <th></th>\n",
              "      <th></th>\n",
              "    </tr>\n",
              "  </thead>\n",
              "  <tbody>\n",
              "    <tr>\n",
              "      <th>0.0</th>\n",
              "      <td>130966</td>\n",
              "      <td>3497</td>\n",
              "      <td>6229</td>\n",
              "      <td>0.000000e+00</td>\n",
              "      <td>0.0</td>\n",
              "      <td>71954</td>\n",
              "      <td>24571</td>\n",
              "      <td>28170</td>\n",
              "      <td>21261</td>\n",
              "      <td>21836</td>\n",
              "      <td>151209</td>\n",
              "    </tr>\n",
              "    <tr>\n",
              "      <th>1.0</th>\n",
              "      <td>184077</td>\n",
              "      <td>4734</td>\n",
              "      <td>8832</td>\n",
              "      <td>1.050708e+10</td>\n",
              "      <td>322026.0</td>\n",
              "      <td>100750</td>\n",
              "      <td>33914</td>\n",
              "      <td>41851</td>\n",
              "      <td>29943</td>\n",
              "      <td>31526</td>\n",
              "      <td>194149</td>\n",
              "    </tr>\n",
              "  </tbody>\n",
              "</table>\n",
              "</div>"
            ],
            "text/plain": [
              "       TYPE MOTOR  JENIS KELAMIN  ...  YG MENGGUNAKAN SMH    HOBI\n",
              "CICIL                             ...                            \n",
              "0.0        130966           3497  ...               21836  151209\n",
              "1.0        184077           4734  ...               31526  194149\n",
              "\n",
              "[2 rows x 11 columns]"
            ]
          },
          "metadata": {},
          "execution_count": 34
        }
      ]
    }
  ]
}