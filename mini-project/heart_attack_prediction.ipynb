{
  "nbformat": 4,
  "nbformat_minor": 0,
  "metadata": {
    "colab": {
      "name": "heart attack prediction.ipynb",
      "provenance": [],
      "collapsed_sections": [],
      "include_colab_link": true
    },
    "kernelspec": {
      "name": "python3",
      "display_name": "Python 3"
    },
    "language_info": {
      "name": "python"
    }
  },
  "cells": [
    {
      "cell_type": "markdown",
      "metadata": {
        "id": "view-in-github",
        "colab_type": "text"
      },
      "source": [
        "<a href=\"https://colab.research.google.com/github/MuhammadNurilHuda/Materi/blob/main/mini-project/heart_attack_prediction.ipynb\" target=\"_parent\"><img src=\"https://colab.research.google.com/assets/colab-badge.svg\" alt=\"Open In Colab\"/></a>"
      ]
    },
    {
      "cell_type": "code",
      "metadata": {
        "id": "H5gEFWVLcz0l"
      },
      "source": [
        "import os\n",
        "os.environ['KAGGLE_CONFIG_DIR'] = \"/content/drive/MyDrive/Kaggle\""
      ],
      "execution_count": null,
      "outputs": []
    },
    {
      "cell_type": "code",
      "metadata": {
        "colab": {
          "base_uri": "https://localhost:8080/"
        },
        "id": "PaDvb66MdmcJ",
        "outputId": "b862cd8a-b95a-422f-9274-9d429e279a58"
      },
      "source": [
        "%cd /content/drive/MyDrive/Kaggle"
      ],
      "execution_count": null,
      "outputs": [
        {
          "output_type": "stream",
          "name": "stdout",
          "text": [
            "/content/drive/MyDrive/Kaggle\n"
          ]
        }
      ]
    },
    {
      "cell_type": "code",
      "metadata": {
        "id": "riKMDoCydZ3t"
      },
      "source": [
        "# !kaggle datasets download -d rashikrahmanpritom/heart-attack-analysis-prediction-dataset"
      ],
      "execution_count": null,
      "outputs": []
    },
    {
      "cell_type": "code",
      "metadata": {
        "id": "rKEhM8QbeJxf"
      },
      "source": [
        "# !unzip \\*.zip  && rm *.zip"
      ],
      "execution_count": null,
      "outputs": []
    },
    {
      "cell_type": "code",
      "metadata": {
        "id": "t-yqEBfFesPj"
      },
      "source": [
        "import pandas as pd\n",
        "import numpy as np\n",
        "from matplotlib import pyplot as plt\n",
        "from sklearn.preprocessing import StandardScaler\n",
        "from sklearn.model_selection import train_test_split\n",
        "from sklearn.metrics import accuracy_score, classification_report, confusion_matrix\n",
        "from sklearn.svm import SVC"
      ],
      "execution_count": null,
      "outputs": []
    },
    {
      "cell_type": "code",
      "metadata": {
        "colab": {
          "base_uri": "https://localhost:8080/"
        },
        "id": "oqkaxvrMeyfH",
        "outputId": "1eb03bd0-a861-446c-a3aa-ae4c93c5e373"
      },
      "source": [
        "df = pd.read_csv(\"/content/drive/MyDrive/Kaggle/heart.csv\")\n",
        "df.info()"
      ],
      "execution_count": null,
      "outputs": [
        {
          "output_type": "stream",
          "name": "stdout",
          "text": [
            "<class 'pandas.core.frame.DataFrame'>\n",
            "RangeIndex: 303 entries, 0 to 302\n",
            "Data columns (total 14 columns):\n",
            " #   Column    Non-Null Count  Dtype  \n",
            "---  ------    --------------  -----  \n",
            " 0   age       303 non-null    int64  \n",
            " 1   sex       303 non-null    int64  \n",
            " 2   cp        303 non-null    int64  \n",
            " 3   trtbps    303 non-null    int64  \n",
            " 4   chol      303 non-null    int64  \n",
            " 5   fbs       303 non-null    int64  \n",
            " 6   restecg   303 non-null    int64  \n",
            " 7   thalachh  303 non-null    int64  \n",
            " 8   exng      303 non-null    int64  \n",
            " 9   oldpeak   303 non-null    float64\n",
            " 10  slp       303 non-null    int64  \n",
            " 11  caa       303 non-null    int64  \n",
            " 12  thall     303 non-null    int64  \n",
            " 13  output    303 non-null    int64  \n",
            "dtypes: float64(1), int64(13)\n",
            "memory usage: 33.3 KB\n"
          ]
        }
      ]
    },
    {
      "cell_type": "code",
      "metadata": {
        "colab": {
          "base_uri": "https://localhost:8080/",
          "height": 204
        },
        "id": "0OOuFvyDut7-",
        "outputId": "26e14d4b-da20-42d7-e810-832ef7aa55a0"
      },
      "source": [
        "df.head()"
      ],
      "execution_count": null,
      "outputs": [
        {
          "output_type": "execute_result",
          "data": {
            "text/html": [
              "<div>\n",
              "<style scoped>\n",
              "    .dataframe tbody tr th:only-of-type {\n",
              "        vertical-align: middle;\n",
              "    }\n",
              "\n",
              "    .dataframe tbody tr th {\n",
              "        vertical-align: top;\n",
              "    }\n",
              "\n",
              "    .dataframe thead th {\n",
              "        text-align: right;\n",
              "    }\n",
              "</style>\n",
              "<table border=\"1\" class=\"dataframe\">\n",
              "  <thead>\n",
              "    <tr style=\"text-align: right;\">\n",
              "      <th></th>\n",
              "      <th>age</th>\n",
              "      <th>sex</th>\n",
              "      <th>cp</th>\n",
              "      <th>trtbps</th>\n",
              "      <th>chol</th>\n",
              "      <th>fbs</th>\n",
              "      <th>restecg</th>\n",
              "      <th>thalachh</th>\n",
              "      <th>exng</th>\n",
              "      <th>oldpeak</th>\n",
              "      <th>slp</th>\n",
              "      <th>caa</th>\n",
              "      <th>thall</th>\n",
              "      <th>output</th>\n",
              "    </tr>\n",
              "  </thead>\n",
              "  <tbody>\n",
              "    <tr>\n",
              "      <th>0</th>\n",
              "      <td>63</td>\n",
              "      <td>1</td>\n",
              "      <td>3</td>\n",
              "      <td>145</td>\n",
              "      <td>233</td>\n",
              "      <td>1</td>\n",
              "      <td>0</td>\n",
              "      <td>150</td>\n",
              "      <td>0</td>\n",
              "      <td>2.3</td>\n",
              "      <td>0</td>\n",
              "      <td>0</td>\n",
              "      <td>1</td>\n",
              "      <td>1</td>\n",
              "    </tr>\n",
              "    <tr>\n",
              "      <th>1</th>\n",
              "      <td>37</td>\n",
              "      <td>1</td>\n",
              "      <td>2</td>\n",
              "      <td>130</td>\n",
              "      <td>250</td>\n",
              "      <td>0</td>\n",
              "      <td>1</td>\n",
              "      <td>187</td>\n",
              "      <td>0</td>\n",
              "      <td>3.5</td>\n",
              "      <td>0</td>\n",
              "      <td>0</td>\n",
              "      <td>2</td>\n",
              "      <td>1</td>\n",
              "    </tr>\n",
              "    <tr>\n",
              "      <th>2</th>\n",
              "      <td>41</td>\n",
              "      <td>0</td>\n",
              "      <td>1</td>\n",
              "      <td>130</td>\n",
              "      <td>204</td>\n",
              "      <td>0</td>\n",
              "      <td>0</td>\n",
              "      <td>172</td>\n",
              "      <td>0</td>\n",
              "      <td>1.4</td>\n",
              "      <td>2</td>\n",
              "      <td>0</td>\n",
              "      <td>2</td>\n",
              "      <td>1</td>\n",
              "    </tr>\n",
              "    <tr>\n",
              "      <th>3</th>\n",
              "      <td>56</td>\n",
              "      <td>1</td>\n",
              "      <td>1</td>\n",
              "      <td>120</td>\n",
              "      <td>236</td>\n",
              "      <td>0</td>\n",
              "      <td>1</td>\n",
              "      <td>178</td>\n",
              "      <td>0</td>\n",
              "      <td>0.8</td>\n",
              "      <td>2</td>\n",
              "      <td>0</td>\n",
              "      <td>2</td>\n",
              "      <td>1</td>\n",
              "    </tr>\n",
              "    <tr>\n",
              "      <th>4</th>\n",
              "      <td>57</td>\n",
              "      <td>0</td>\n",
              "      <td>0</td>\n",
              "      <td>120</td>\n",
              "      <td>354</td>\n",
              "      <td>0</td>\n",
              "      <td>1</td>\n",
              "      <td>163</td>\n",
              "      <td>1</td>\n",
              "      <td>0.6</td>\n",
              "      <td>2</td>\n",
              "      <td>0</td>\n",
              "      <td>2</td>\n",
              "      <td>1</td>\n",
              "    </tr>\n",
              "  </tbody>\n",
              "</table>\n",
              "</div>"
            ],
            "text/plain": [
              "   age  sex  cp  trtbps  chol  fbs  ...  exng  oldpeak  slp  caa  thall  output\n",
              "0   63    1   3     145   233    1  ...     0      2.3    0    0      1       1\n",
              "1   37    1   2     130   250    0  ...     0      3.5    0    0      2       1\n",
              "2   41    0   1     130   204    0  ...     0      1.4    2    0      2       1\n",
              "3   56    1   1     120   236    0  ...     0      0.8    2    0      2       1\n",
              "4   57    0   0     120   354    0  ...     1      0.6    2    0      2       1\n",
              "\n",
              "[5 rows x 14 columns]"
            ]
          },
          "metadata": {},
          "execution_count": 10
        }
      ]
    },
    {
      "cell_type": "code",
      "metadata": {
        "colab": {
          "base_uri": "https://localhost:8080/"
        },
        "id": "XaUls38tf5__",
        "outputId": "aeaa0a02-b7fd-4aaf-9a3d-d2be0dc64541"
      },
      "source": [
        "df.columns"
      ],
      "execution_count": null,
      "outputs": [
        {
          "output_type": "execute_result",
          "data": {
            "text/plain": [
              "Index(['age', 'sex', 'cp', 'trtbps', 'chol', 'fbs', 'restecg', 'thalachh',\n",
              "       'exng', 'oldpeak', 'slp', 'caa', 'thall', 'output'],\n",
              "      dtype='object')"
            ]
          },
          "metadata": {},
          "execution_count": 11
        }
      ]
    },
    {
      "cell_type": "code",
      "metadata": {
        "colab": {
          "base_uri": "https://localhost:8080/"
        },
        "id": "JwbBw0AC4bqE",
        "outputId": "a2f6b2f1-be15-406d-cec0-6a8e9a9b08cb"
      },
      "source": [
        "df.shape"
      ],
      "execution_count": null,
      "outputs": [
        {
          "output_type": "execute_result",
          "data": {
            "text/plain": [
              "(303, 14)"
            ]
          },
          "metadata": {},
          "execution_count": 12
        }
      ]
    },
    {
      "cell_type": "code",
      "metadata": {
        "id": "o0C21UUcf771"
      },
      "source": [
        "X = df.drop('output', axis=1)\n",
        "y = df['output']\n",
        "\n",
        "X = StandardScaler().fit(X).transform(X)\n",
        "X_train, X_test, y_train, y_test = train_test_split(X, y, test_size=0.2, random_state=42)"
      ],
      "execution_count": null,
      "outputs": []
    },
    {
      "cell_type": "code",
      "metadata": {
        "id": "4H31zFqXLOuV"
      },
      "source": [
        "from sklearn.neighbors import KNeighborsClassifier\n",
        "from sklearn.ensemble import RandomForestClassifier\n",
        "from sklearn.tree import DecisionTreeClassifier\n",
        "from sklearn.linear_model import LogisticRegression\n",
        "from sklearn.naive_bayes import GaussianNB"
      ],
      "execution_count": null,
      "outputs": []
    },
    {
      "cell_type": "code",
      "metadata": {
        "colab": {
          "base_uri": "https://localhost:8080/"
        },
        "id": "Pkb78w_zf8F5",
        "outputId": "569382d7-2b48-4ed9-ed6b-65f9f39864cf"
      },
      "source": [
        "# SVM\n",
        "clf_svc = SVC(C=1, kernel='linear', gamma='scale')\n",
        "clf_svc.fit(X_train, y_train)\n",
        "\n",
        "# prediction result\n",
        "y_pred = clf_svc.predict(X_test)\n",
        "print(accuracy_score(y_test,y_pred))"
      ],
      "execution_count": null,
      "outputs": [
        {
          "output_type": "stream",
          "name": "stdout",
          "text": [
            "0.8688524590163934\n"
          ]
        }
      ]
    },
    {
      "cell_type": "code",
      "metadata": {
        "colab": {
          "base_uri": "https://localhost:8080/"
        },
        "id": "7UAlQ2ixLxbI",
        "outputId": "2eabea91-8960-4aa9-a718-07f961589999"
      },
      "source": [
        "# KNeighborsClassifier\n",
        "clf_knn=KNeighborsClassifier(n_neighbors=2, algorithm='auto',weights='uniform', leaf_size=30)\n",
        "clf_knn.fit(X_train, y_train)\n",
        "\n",
        "# prediction result\n",
        "y_pred = clf_knn.predict(X_test)\n",
        "print(accuracy_score(y_test,y_pred))"
      ],
      "execution_count": null,
      "outputs": [
        {
          "output_type": "stream",
          "name": "stdout",
          "text": [
            "0.819672131147541\n"
          ]
        }
      ]
    },
    {
      "cell_type": "code",
      "metadata": {
        "colab": {
          "base_uri": "https://localhost:8080/"
        },
        "id": "NvKiWS7GNWJ8",
        "outputId": "4205a561-c6ca-4fec-d104-54e293b8804a"
      },
      "source": [
        "# Random Forest\n",
        "clf_rf=RandomForestClassifier(n_estimators=5, criterion='entropy', random_state=42, max_depth=6)\n",
        "clf_rf.fit(X_train, y_train)\n",
        "\n",
        "# prediction result\n",
        "y_pred = clf_rf.predict(X_test)\n",
        "print(accuracy_score(y_test,y_pred))"
      ],
      "execution_count": null,
      "outputs": [
        {
          "output_type": "stream",
          "name": "stdout",
          "text": [
            "0.7704918032786885\n"
          ]
        }
      ]
    },
    {
      "cell_type": "code",
      "metadata": {
        "colab": {
          "base_uri": "https://localhost:8080/"
        },
        "id": "ZUbkqLuWOW8h",
        "outputId": "adde62af-c37c-45bc-ed02-72bf16b1bb32"
      },
      "source": [
        "# Decision Tree\n",
        "clf_dt=DecisionTreeClassifier(criterion='entropy', random_state=42, max_depth=6)\n",
        "clf_dt.fit(X_train, y_train)\n",
        "\n",
        "# prediction result\n",
        "y_pred = clf_dt.predict(X_test)\n",
        "print(accuracy_score(y_test,y_pred))"
      ],
      "execution_count": null,
      "outputs": [
        {
          "output_type": "stream",
          "name": "stdout",
          "text": [
            "0.8688524590163934\n"
          ]
        }
      ]
    },
    {
      "cell_type": "code",
      "metadata": {
        "colab": {
          "base_uri": "https://localhost:8080/"
        },
        "id": "QLhjr4shO2k3",
        "outputId": "03ebea6e-94d0-41ae-c502-7389b68cdf22"
      },
      "source": [
        "# Logistic Regression\n",
        "clf_lr=LogisticRegression(C=2, solver='liblinear', multi_class='auto')\n",
        "clf_lr.fit(X_train, y_train)\n",
        "\n",
        "# prediction result\n",
        "y_pred = clf_lr.predict(X_test)\n",
        "print(accuracy_score(y_test,y_pred))"
      ],
      "execution_count": null,
      "outputs": [
        {
          "output_type": "stream",
          "name": "stdout",
          "text": [
            "0.8524590163934426\n"
          ]
        }
      ]
    },
    {
      "cell_type": "code",
      "metadata": {
        "colab": {
          "base_uri": "https://localhost:8080/"
        },
        "id": "E93y-pCoPYDn",
        "outputId": "575c4612-4db8-4283-9836-556bfed21fad"
      },
      "source": [
        "# Naive Bayes\n",
        "clf_nb=GaussianNB()\n",
        "clf_nb.fit(X_train, y_train)\n",
        "\n",
        "# prediction result\n",
        "y_pred = clf_nb.predict(X_test)\n",
        "print(accuracy_score(y_test,y_pred))"
      ],
      "execution_count": null,
      "outputs": [
        {
          "output_type": "stream",
          "name": "stdout",
          "text": [
            "0.8688524590163934\n"
          ]
        }
      ]
    },
    {
      "cell_type": "code",
      "metadata": {
        "id": "hhgsWjTMQPyb"
      },
      "source": [
        "from sklearn.model_selection import GridSearchCV\n",
        "\n",
        "scores=[]\n",
        "best_estimators = {}\n",
        "\n",
        "model_params = {  \n",
        "    \n",
        "    'SVM': {\n",
        "        'model': SVC(),\n",
        "        'params': {\n",
        "             'C': [0.1,1,2,3,4,5,6,7,8,9,10,100,1000],\n",
        "             'kernel': ['rbf', 'linear', 'poly', 'sigmoid'],\n",
        "             'gamma': [1, 0.1, 0.01, 0.001, 0.0001]\n",
        "        }\n",
        "    },\n",
        "\n",
        "    'KNeighborsClassifier': {\n",
        "        'model': KNeighborsClassifier(),\n",
        "        'params': {\n",
        "            'n_neighbors': [1,2,3,4,5,6,7,18,19,20],\n",
        "            'algorithm' : ['auto', 'ball_tree', 'kd_tree', 'brute'],\n",
        "            'weights' : ['uniform','distance'],\n",
        "            'leaf_size' : [20,25,27,28,29,30,31,35]\n",
        "        }\n",
        "    },\n",
        "\n",
        "    'RANDOM_FOREST':{\n",
        "        'model' : RandomForestClassifier(),\n",
        "        'params': {\n",
        "            'n_estimators':[1,2,3,4,5,10,15,20,30,50,75,100],\n",
        "            'criterion': ['entropy','gini'],\n",
        "            'random_state' : [10,12,13,42,100],\n",
        "            'max_depth' : [None,1,2,3,4,5,6,7,8,9,10]\n",
        "\n",
        "        }\n",
        "    },\n",
        "    \n",
        "    'DecisionTreeClassifier': {\n",
        "        'model': DecisionTreeClassifier(),\n",
        "        'params': {\n",
        "            'criterion': ['gini','entropy'],\n",
        "            'max_depth' : [None,1,2,3,4,5,6,7,8,9,10]\n",
        "        }\n",
        "    },\n",
        "    \n",
        "    'LOGISTIC_REGRESSION': {\n",
        "        'model': LogisticRegression(),\n",
        "        'params': {\n",
        "            'C': [0.1,1,2,3,4,5,6,7,8,9,10,100,1000],\n",
        "            'solver' : [ 'liblinear', 'lbfgs'],\n",
        "            'multi_class' : ['auto', 'ovr' ]\n",
        "        }\n",
        "    },\n",
        "\n",
        "    'GaussianNB': {\n",
        "        'model': GaussianNB(),\n",
        "        'params': {\n",
        "            \n",
        "        }\n",
        "    }\n",
        "    \n",
        "}"
      ],
      "execution_count": null,
      "outputs": []
    },
    {
      "cell_type": "code",
      "metadata": {
        "colab": {
          "base_uri": "https://localhost:8080/"
        },
        "id": "hlcPirkORjCd",
        "outputId": "52636c10-a1ee-49f4-9c14-29c31275acda"
      },
      "source": [
        "import time\n",
        "\n",
        "\n",
        "for model_name, mp in model_params.items():\n",
        "    clf = GridSearchCV(mp['model'], mp['params'], cv=5, return_train_score=False)\n",
        "    print(mp['model'], mp['params'])\n",
        "    start_time = time.time()\n",
        "    \n",
        "    clf.fit(X_train, y_train)    \n",
        "    \n",
        "\n",
        "    scores.append({\n",
        "        'model': model_name,\n",
        "        'best_score': clf.best_score_,\n",
        "        'best_params': str(clf.best_params_)\n",
        "    })\n",
        "    best_estimators[model_name] = clf.best_estimator_\n",
        "    print('{} minutes'.format((time.time() - start_time)/60))"
      ],
      "execution_count": null,
      "outputs": [
        {
          "output_type": "stream",
          "name": "stdout",
          "text": [
            "SVC(C=1.0, break_ties=False, cache_size=200, class_weight=None, coef0=0.0,\n",
            "    decision_function_shape='ovr', degree=3, gamma='scale', kernel='rbf',\n",
            "    max_iter=-1, probability=False, random_state=None, shrinking=True,\n",
            "    tol=0.001, verbose=False) {'C': [0.1, 1, 2, 3, 4, 5, 6, 7, 8, 9, 10, 100, 1000], 'kernel': ['rbf', 'linear', 'poly', 'sigmoid'], 'gamma': [1, 0.1, 0.01, 0.001, 0.0001]}\n",
            "0.945376205444336 minutes\n",
            "KNeighborsClassifier(algorithm='auto', leaf_size=30, metric='minkowski',\n",
            "                     metric_params=None, n_jobs=None, n_neighbors=5, p=2,\n",
            "                     weights='uniform') {'n_neighbors': [1, 2, 3, 4, 5, 6, 7, 18, 19, 20], 'algorithm': ['auto', 'ball_tree', 'kd_tree', 'brute'], 'weights': ['uniform', 'distance'], 'leaf_size': [20, 25, 27, 28, 29, 30, 31, 35]}\n",
            "0.16157857179641724 minutes\n",
            "RandomForestClassifier(bootstrap=True, ccp_alpha=0.0, class_weight=None,\n",
            "                       criterion='gini', max_depth=None, max_features='auto',\n",
            "                       max_leaf_nodes=None, max_samples=None,\n",
            "                       min_impurity_decrease=0.0, min_impurity_split=None,\n",
            "                       min_samples_leaf=1, min_samples_split=2,\n",
            "                       min_weight_fraction_leaf=0.0, n_estimators=100,\n",
            "                       n_jobs=None, oob_score=False, random_state=None,\n",
            "                       verbose=0, warm_start=False) {'n_estimators': [1, 2, 3, 4, 5, 10, 15, 20, 30, 50, 75, 100], 'criterion': ['entropy', 'gini'], 'random_state': [10, 12, 13, 42, 100], 'max_depth': [None, 1, 2, 3, 4, 5, 6, 7, 8, 9, 10]}\n",
            "4.511891571680705 minutes\n",
            "DecisionTreeClassifier(ccp_alpha=0.0, class_weight=None, criterion='gini',\n",
            "                       max_depth=None, max_features=None, max_leaf_nodes=None,\n",
            "                       min_impurity_decrease=0.0, min_impurity_split=None,\n",
            "                       min_samples_leaf=1, min_samples_split=2,\n",
            "                       min_weight_fraction_leaf=0.0, presort='deprecated',\n",
            "                       random_state=None, splitter='best') {'criterion': ['gini', 'entropy'], 'max_depth': [None, 1, 2, 3, 4, 5, 6, 7, 8, 9, 10]}\n",
            "0.003630077838897705 minutes\n",
            "LogisticRegression(C=1.0, class_weight=None, dual=False, fit_intercept=True,\n",
            "                   intercept_scaling=1, l1_ratio=None, max_iter=100,\n",
            "                   multi_class='auto', n_jobs=None, penalty='l2',\n",
            "                   random_state=None, solver='lbfgs', tol=0.0001, verbose=0,\n",
            "                   warm_start=False) {'C': [0.1, 1, 2, 3, 4, 5, 6, 7, 8, 9, 10, 100, 1000], 'solver': ['liblinear', 'lbfgs'], 'multi_class': ['auto', 'ovr']}\n",
            "0.013980539639790852 minutes\n",
            "GaussianNB(priors=None, var_smoothing=1e-09) {}\n",
            "0.00018505652745564777 minutes\n"
          ]
        }
      ]
    },
    {
      "cell_type": "code",
      "metadata": {
        "colab": {
          "base_uri": "https://localhost:8080/"
        },
        "id": "tfB87dgoRmJX",
        "outputId": "ee881d08-1874-4967-e440-a4853c4784d4"
      },
      "source": [
        "import pandas as pd    \n",
        "df2 = pd.DataFrame(scores,columns=['model','best_score','best_params'])\n",
        "df2 = df2.sort_values(by='best_score',ascending=False)\n",
        "df2"
      ],
      "execution_count": null,
      "outputs": [
        {
          "output_type": "execute_result",
          "data": {
            "text/html": [
              "<div>\n",
              "<style scoped>\n",
              "    .dataframe tbody tr th:only-of-type {\n",
              "        vertical-align: middle;\n",
              "    }\n",
              "\n",
              "    .dataframe tbody tr th {\n",
              "        vertical-align: top;\n",
              "    }\n",
              "\n",
              "    .dataframe thead th {\n",
              "        text-align: right;\n",
              "    }\n",
              "</style>\n",
              "<table border=\"1\" class=\"dataframe\">\n",
              "  <thead>\n",
              "    <tr style=\"text-align: right;\">\n",
              "      <th></th>\n",
              "      <th>model</th>\n",
              "      <th>best_score</th>\n",
              "      <th>best_params</th>\n",
              "    </tr>\n",
              "  </thead>\n",
              "  <tbody>\n",
              "    <tr>\n",
              "      <th>2</th>\n",
              "      <td>RANDOM_FOREST</td>\n",
              "      <td>0.847194</td>\n",
              "      <td>{'criterion': 'gini', 'max_depth': 6, 'n_estim...</td>\n",
              "    </tr>\n",
              "    <tr>\n",
              "      <th>1</th>\n",
              "      <td>KNeighborsClassifier</td>\n",
              "      <td>0.830612</td>\n",
              "      <td>{'algorithm': 'auto', 'leaf_size': 20, 'n_neig...</td>\n",
              "    </tr>\n",
              "    <tr>\n",
              "      <th>0</th>\n",
              "      <td>SVM</td>\n",
              "      <td>0.826446</td>\n",
              "      <td>{'C': 10, 'gamma': 0.01, 'kernel': 'rbf'}</td>\n",
              "    </tr>\n",
              "    <tr>\n",
              "      <th>4</th>\n",
              "      <td>LOGISTIC_REGRESSION</td>\n",
              "      <td>0.822109</td>\n",
              "      <td>{'C': 2, 'multi_class': 'auto', 'solver': 'lib...</td>\n",
              "    </tr>\n",
              "    <tr>\n",
              "      <th>5</th>\n",
              "      <td>GaussianNB</td>\n",
              "      <td>0.789031</td>\n",
              "      <td>{}</td>\n",
              "    </tr>\n",
              "    <tr>\n",
              "      <th>3</th>\n",
              "      <td>DecisionTreeClassifier</td>\n",
              "      <td>0.776786</td>\n",
              "      <td>{'criterion': 'entropy', 'max_depth': None}</td>\n",
              "    </tr>\n",
              "  </tbody>\n",
              "</table>\n",
              "</div>"
            ],
            "text/plain": [
              "                    model  ...                                        best_params\n",
              "2           RANDOM_FOREST  ...  {'criterion': 'gini', 'max_depth': 6, 'n_estim...\n",
              "1    KNeighborsClassifier  ...  {'algorithm': 'auto', 'leaf_size': 20, 'n_neig...\n",
              "0                     SVM  ...          {'C': 10, 'gamma': 0.01, 'kernel': 'rbf'}\n",
              "4     LOGISTIC_REGRESSION  ...  {'C': 2, 'multi_class': 'auto', 'solver': 'lib...\n",
              "5              GaussianNB  ...                                                 {}\n",
              "3  DecisionTreeClassifier  ...        {'criterion': 'entropy', 'max_depth': None}\n",
              "\n",
              "[6 rows x 3 columns]"
            ]
          },
          "metadata": {},
          "execution_count": 23
        }
      ]
    },
    {
      "cell_type": "code",
      "metadata": {
        "colab": {
          "base_uri": "https://localhost:8080/"
        },
        "id": "mJ15KeOxxk-Z",
        "outputId": "6c858e57-e5d4-49cc-9098-c852d6f6bd02"
      },
      "source": [
        "from sklearn.model_selection import cross_val_score\n",
        "cross_val_score(best_estimators['RANDOM_FOREST'],X_test,y_test,cv=5).mean()"
      ],
      "execution_count": null,
      "outputs": [
        {
          "output_type": "execute_result",
          "data": {
            "text/plain": [
              "0.785897435897436"
            ]
          },
          "metadata": {},
          "execution_count": 24
        }
      ]
    },
    {
      "cell_type": "code",
      "metadata": {
        "colab": {
          "base_uri": "https://localhost:8080/"
        },
        "id": "xUnqN1QZxpTr",
        "outputId": "7a9d1802-3e42-40dc-e78f-00461a6404a4"
      },
      "source": [
        "cross_val_score(best_estimators['KNeighborsClassifier'],X_test,y_test,cv=5).mean()"
      ],
      "execution_count": null,
      "outputs": [
        {
          "output_type": "execute_result",
          "data": {
            "text/plain": [
              "0.8371794871794872"
            ]
          },
          "metadata": {},
          "execution_count": 25
        }
      ]
    },
    {
      "cell_type": "code",
      "metadata": {
        "colab": {
          "base_uri": "https://localhost:8080/"
        },
        "id": "7vN6BySZy71d",
        "outputId": "18e47f7f-3567-465e-aa69-90371679cf89"
      },
      "source": [
        "cross_val_score(best_estimators['SVM'],X_test,y_test,cv=5).mean()"
      ],
      "execution_count": null,
      "outputs": [
        {
          "output_type": "execute_result",
          "data": {
            "text/plain": [
              "0.8358974358974359"
            ]
          },
          "metadata": {},
          "execution_count": 26
        }
      ]
    },
    {
      "cell_type": "code",
      "metadata": {
        "colab": {
          "base_uri": "https://localhost:8080/"
        },
        "id": "CzJ4n6O7xw_u",
        "outputId": "3560a19f-2193-4e3e-a16b-2cf7f767d3ea"
      },
      "source": [
        "cross_val_score(best_estimators['LOGISTIC_REGRESSION'],X_test,y_test,cv=5).mean()"
      ],
      "execution_count": null,
      "outputs": [
        {
          "output_type": "execute_result",
          "data": {
            "text/plain": [
              "0.8025641025641026"
            ]
          },
          "metadata": {},
          "execution_count": 27
        }
      ]
    },
    {
      "cell_type": "code",
      "metadata": {
        "colab": {
          "base_uri": "https://localhost:8080/"
        },
        "id": "ciOyPFrxx1d-",
        "outputId": "7e6fcef1-e4bd-4708-a2c2-dff3ae8408b0"
      },
      "source": [
        "cross_val_score(best_estimators['GaussianNB'],X_test,y_test,cv=5).mean()"
      ],
      "execution_count": null,
      "outputs": [
        {
          "output_type": "execute_result",
          "data": {
            "text/plain": [
              "0.8358974358974359"
            ]
          },
          "metadata": {},
          "execution_count": 28
        }
      ]
    },
    {
      "cell_type": "code",
      "metadata": {
        "colab": {
          "base_uri": "https://localhost:8080/"
        },
        "id": "DaVyxaFvx8lJ",
        "outputId": "942fe587-3ce2-4059-950d-c1e08f73d8fd"
      },
      "source": [
        "cross_val_score(best_estimators['DecisionTreeClassifier'],X_test,y_test,cv=5).mean()"
      ],
      "execution_count": null,
      "outputs": [
        {
          "output_type": "execute_result",
          "data": {
            "text/plain": [
              "0.7743589743589744"
            ]
          },
          "metadata": {},
          "execution_count": 29
        }
      ]
    },
    {
      "cell_type": "code",
      "metadata": {
        "colab": {
          "base_uri": "https://localhost:8080/"
        },
        "id": "KKEeYPdkpgHl",
        "outputId": "a1990d36-8b32-41aa-d537-83ebe59117c8"
      },
      "source": [
        "df2.best_params[2]"
      ],
      "execution_count": null,
      "outputs": [
        {
          "output_type": "execute_result",
          "data": {
            "application/vnd.google.colaboratory.intrinsic+json": {
              "type": "string"
            },
            "text/plain": [
              "\"{'criterion': 'gini', 'max_depth': 6, 'n_estimators': 15, 'random_state': 13}\""
            ]
          },
          "metadata": {},
          "execution_count": 30
        }
      ]
    },
    {
      "cell_type": "code",
      "metadata": {
        "colab": {
          "base_uri": "https://localhost:8080/"
        },
        "id": "2P2h3BpNGvGs",
        "outputId": "afaefab3-3b3f-46a3-c9b1-6f3c123481dc"
      },
      "source": [
        "# RANDOM FOREST\n",
        "print(classification_report(y_test, clf_rf.predict(X_test)))"
      ],
      "execution_count": null,
      "outputs": [
        {
          "output_type": "stream",
          "name": "stdout",
          "text": [
            "              precision    recall  f1-score   support\n",
            "\n",
            "           0       0.76      0.76      0.76        29\n",
            "           1       0.78      0.78      0.78        32\n",
            "\n",
            "    accuracy                           0.77        61\n",
            "   macro avg       0.77      0.77      0.77        61\n",
            "weighted avg       0.77      0.77      0.77        61\n",
            "\n"
          ]
        }
      ]
    },
    {
      "cell_type": "code",
      "metadata": {
        "colab": {
          "base_uri": "https://localhost:8080/",
          "height": 383
        },
        "id": "7ko5yGFs21cQ",
        "outputId": "a9de213e-6b95-4956-c8ed-83f3ce5fee83"
      },
      "source": [
        "ax = sns.distplot(y, hist=False, color=\"r\", label=\"Actual Value\")\n",
        "sns.distplot(clf_rf.predict(X_test), hist=False, color=\"b\", label=\"Fitted Values\" , ax=ax)\n",
        "\n",
        "\n",
        "plt.title('Actual vs Fitted Values')\n",
        "\n",
        "plt.legend()\n",
        "plt.show()\n",
        "plt.close()"
      ],
      "execution_count": null,
      "outputs": [
        {
          "output_type": "stream",
          "name": "stderr",
          "text": [
            "/usr/local/lib/python3.7/dist-packages/seaborn/distributions.py:2619: FutureWarning: `distplot` is a deprecated function and will be removed in a future version. Please adapt your code to use either `displot` (a figure-level function with similar flexibility) or `kdeplot` (an axes-level function for kernel density plots).\n",
            "  warnings.warn(msg, FutureWarning)\n",
            "/usr/local/lib/python3.7/dist-packages/seaborn/distributions.py:2619: FutureWarning: `distplot` is a deprecated function and will be removed in a future version. Please adapt your code to use either `displot` (a figure-level function with similar flexibility) or `kdeplot` (an axes-level function for kernel density plots).\n",
            "  warnings.warn(msg, FutureWarning)\n"
          ]
        },
        {
          "output_type": "display_data",
          "data": {
            "image/png": "[encoded data removed]",
            "text/plain": [
              "<Figure size 432x288 with 1 Axes>"
            ]
          },
          "metadata": {
            "needs_background": "light"
          }
        }
      ]
    },
    {
      "cell_type": "code",
      "metadata": {
        "colab": {
          "base_uri": "https://localhost:8080/"
        },
        "id": "BW6DMTdMEtv9",
        "outputId": "56805dac-b69b-4a2e-f34e-5281c16b623d"
      },
      "source": [
        "# KNClassifier\n",
        "print(classification_report(y_test, clf_knn.predict(X_test)))"
      ],
      "execution_count": null,
      "outputs": [
        {
          "output_type": "stream",
          "name": "stdout",
          "text": [
            "              precision    recall  f1-score   support\n",
            "\n",
            "           0       0.75      0.93      0.83        29\n",
            "           1       0.92      0.72      0.81        32\n",
            "\n",
            "    accuracy                           0.82        61\n",
            "   macro avg       0.83      0.82      0.82        61\n",
            "weighted avg       0.84      0.82      0.82        61\n",
            "\n"
          ]
        }
      ]
    },
    {
      "cell_type": "code",
      "metadata": {
        "colab": {
          "base_uri": "https://localhost:8080/"
        },
        "id": "Ckk6k98iE5Qa",
        "outputId": "9705c673-5112-4455-b8c1-020a45489dcd"
      },
      "source": [
        "# SVM\n",
        "print(classification_report(y_test, clf_svc.predict(X_test)))"
      ],
      "execution_count": null,
      "outputs": [
        {
          "output_type": "stream",
          "name": "stdout",
          "text": [
            "              precision    recall  f1-score   support\n",
            "\n",
            "           0       0.86      0.86      0.86        29\n",
            "           1       0.88      0.88      0.88        32\n",
            "\n",
            "    accuracy                           0.87        61\n",
            "   macro avg       0.87      0.87      0.87        61\n",
            "weighted avg       0.87      0.87      0.87        61\n",
            "\n"
          ]
        }
      ]
    },
    {
      "cell_type": "code",
      "metadata": {
        "colab": {
          "base_uri": "https://localhost:8080/"
        },
        "id": "AINY4pC9FEYp",
        "outputId": "b970e7b4-e90e-44f3-db50-579dda9c10d7"
      },
      "source": [
        "# Logistic regression\n",
        "print(classification_report(y_test, clf_lr.predict(X_test)))"
      ],
      "execution_count": null,
      "outputs": [
        {
          "output_type": "stream",
          "name": "stdout",
          "text": [
            "              precision    recall  f1-score   support\n",
            "\n",
            "           0       0.83      0.86      0.85        29\n",
            "           1       0.87      0.84      0.86        32\n",
            "\n",
            "    accuracy                           0.85        61\n",
            "   macro avg       0.85      0.85      0.85        61\n",
            "weighted avg       0.85      0.85      0.85        61\n",
            "\n"
          ]
        }
      ]
    },
    {
      "cell_type": "code",
      "metadata": {
        "colab": {
          "base_uri": "https://localhost:8080/"
        },
        "id": "J5AR3pSnFJ5y",
        "outputId": "e5ebfead-72ba-447b-93d3-61d52049ea3c"
      },
      "source": [
        "# Naive bayes\n",
        "print(classification_report(y_test, clf_nb.predict(X_test)))"
      ],
      "execution_count": null,
      "outputs": [
        {
          "output_type": "stream",
          "name": "stdout",
          "text": [
            "              precision    recall  f1-score   support\n",
            "\n",
            "           0       0.84      0.90      0.87        29\n",
            "           1       0.90      0.84      0.87        32\n",
            "\n",
            "    accuracy                           0.87        61\n",
            "   macro avg       0.87      0.87      0.87        61\n",
            "weighted avg       0.87      0.87      0.87        61\n",
            "\n"
          ]
        }
      ]
    },
    {
      "cell_type": "code",
      "metadata": {
        "colab": {
          "base_uri": "https://localhost:8080/"
        },
        "id": "j_kwH-jGFkef",
        "outputId": "2560bd23-ce93-44dd-bea3-3a4be9cd0907"
      },
      "source": [
        "# Decission tree\n",
        "print(classification_report(y_test, clf_dt.predict(X_test)))"
      ],
      "execution_count": null,
      "outputs": [
        {
          "output_type": "stream",
          "name": "stdout",
          "text": [
            "              precision    recall  f1-score   support\n",
            "\n",
            "           0       0.84      0.90      0.87        29\n",
            "           1       0.90      0.84      0.87        32\n",
            "\n",
            "    accuracy                           0.87        61\n",
            "   macro avg       0.87      0.87      0.87        61\n",
            "weighted avg       0.87      0.87      0.87        61\n",
            "\n"
          ]
        }
      ]
    },
    {
      "cell_type": "code",
      "metadata": {
        "colab": {
          "base_uri": "https://localhost:8080/"
        },
        "id": "n4razHuJpHFa",
        "outputId": "cfbf4ecb-5891-4985-e6f6-0711ebdb94d5"
      },
      "source": [
        "cm = confusion_matrix(y_test, clf_rf.predict(X_test))\n",
        "cm"
      ],
      "execution_count": null,
      "outputs": [
        {
          "output_type": "execute_result",
          "data": {
            "text/plain": [
              "array([[22,  7],\n",
              "       [ 7, 25]])"
            ]
          },
          "metadata": {},
          "execution_count": 38
        }
      ]
    },
    {
      "cell_type": "code",
      "metadata": {
        "colab": {
          "base_uri": "https://localhost:8080/"
        },
        "id": "pkSlJ4qBHlNv",
        "outputId": "53ac9ab8-b8ad-4b0f-8398-126c13310627"
      },
      "source": [
        "cm = confusion_matrix(y_test, clf_dt.predict(X_test))\n",
        "cm"
      ],
      "execution_count": null,
      "outputs": [
        {
          "output_type": "execute_result",
          "data": {
            "text/plain": [
              "array([[26,  3],\n",
              "       [ 5, 27]])"
            ]
          },
          "metadata": {},
          "execution_count": 39
        }
      ]
    },
    {
      "cell_type": "code",
      "metadata": {
        "id": "yf7QIJPAJl2u"
      },
      "source": [
        "class_dict = {'Normal':0, 'Prone to heart attack':1}"
      ],
      "execution_count": null,
      "outputs": []
    },
    {
      "cell_type": "code",
      "metadata": {
        "colab": {
          "base_uri": "https://localhost:8080/",
          "height": 604
        },
        "id": "7R8coJwyJTZF",
        "outputId": "2cad34f5-f03e-4032-c7f5-de7653294c4d"
      },
      "source": [
        "import seaborn as sns\n",
        "fig, ax = plt.subplots(figsize=(8,8))\n",
        "\n",
        "g = sns.heatmap(cm,annot=True,ax=ax)\n",
        "g.set_yticklabels(g.get_yticklabels(), rotation = 0, fontsize = 11)\n",
        "g.set_xticklabels(g.get_xticklabels(), rotation = 90, fontsize = 11)\n",
        "ax.xaxis.set_ticklabels(class_dict.keys()); ax.yaxis.set_ticklabels(class_dict.keys());\n",
        "ax.set_xlabel('Predicted labels');ax.set_ylabel('True labels');"
      ],
      "execution_count": null,
      "outputs": [
        {
          "output_type": "display_data",
          "data": {
            "image/png": "[encoded data removed]",
            "text/plain": [
              "<Figure size 576x576 with 2 Axes>"
            ]
          },
          "metadata": {
            "needs_background": "light"
          }
        }
      ]
    },
    {
      "cell_type": "code",
      "metadata": {
        "colab": {
          "base_uri": "https://localhost:8080/",
          "height": 350
        },
        "id": "URYD6Qqrx8Ur",
        "outputId": "3dfe8c23-5136-4685-e516-70b86a3f5887"
      },
      "source": [
        "from matplotlib import pyplot as plt\n",
        "from sklearn import metrics\n",
        "\n",
        "rf_false_positive_rate,rf_true_positive_rate,rf_threshold = metrics.roc_curve(y_test,best_estimators['RANDOM_FOREST'].predict(X_test))\n",
        "sns.set_style('darkgrid')\n",
        "plt.figure(figsize=(10,5))\n",
        "plt.title('ROC Curve')\n",
        "plt.plot(rf_false_positive_rate,rf_true_positive_rate,label='Random Forest')\n",
        "plt.plot([0,1],ls='--')\n",
        "plt.ylabel('True positive rate')\n",
        "plt.xlabel('False positive rate')\n",
        "plt.legend()\n",
        "plt.show()"
      ],
      "execution_count": null,
      "outputs": [
        {
          "output_type": "display_data",
          "data": {
            "image/png": "[encoded data removed]",
            "text/plain": [
              "<Figure size 720x360 with 1 Axes>"
            ]
          },
          "metadata": {}
        }
      ]
    },
    {
      "cell_type": "code",
      "metadata": {
        "colab": {
          "base_uri": "https://localhost:8080/"
        },
        "id": "Qd0Jeg0MMrJS",
        "outputId": "000906ce-c082-4451-901d-169770116530"
      },
      "source": [
        "lr_false_positive_rate,lr_true_positive_rate,lr_threshold = metrics.roc_curve(y_test,best_estimators['LOGISTIC_REGRESSION'].predict(X_test))\n",
        "nb_false_positive_rate,nb_true_positive_rate,nb_threshold = metrics.roc_curve(y_test,best_estimators['GaussianNB'].predict(X_test))\n",
        "rf_false_positive_rate,rf_true_positive_rate,rf_threshold = metrics.roc_curve(y_test,best_estimators['RANDOM_FOREST'].predict(X_test))                                                             \n",
        "\n",
        "knn_false_positive_rate,knn_true_positive_rate,knn_threshold = metrics.roc_curve(y_test,best_estimators['KNeighborsClassifier'].predict(X_test))\n",
        "dt_false_positive_rate,dt_true_positive_rate,dt_threshold = metrics.roc_curve(y_test,best_estimators['DecisionTreeClassifier'].predict(X_test))\n",
        "svc_false_positive_rate,svc_true_positive_rate,svc_threshold = metrics.roc_curve(y_test,best_estimators['SVM'].predict(X_test))\n",
        "\n",
        "\n",
        "sns.set_style('darkgrid')\n",
        "plt.figure(figsize=(10,5))\n",
        "plt.title('Receiver Operating Characteristic Curve')\n",
        "\n",
        "plt.plot(rf_false_positive_rate,rf_true_positive_rate,label='Random Forest')\n",
        "plt.plot(lr_false_positive_rate,lr_true_positive_rate,label='Logistic Regression')\n",
        "plt.plot(nb_false_positive_rate,nb_true_positive_rate,label='Naive Bayes')\n",
        "\n",
        "plt.plot(knn_false_positive_rate,knn_true_positive_rate,label='K-Nearest Neighbor')\n",
        "plt.plot(dt_false_positive_rate,dt_true_positive_rate,label='Desion Tree')\n",
        "plt.plot(svc_false_positive_rate,svc_true_positive_rate,label='Support Vector Classifier')\n",
        "plt.plot([0,1],ls='--')\n",
        "plt.ylabel('True positive rate')\n",
        "plt.xlabel('False positive rate')\n",
        "plt.legend()\n",
        "plt.show()"
      ],
      "execution_count": null,
      "outputs": [
        {
          "output_type": "display_data",
          "data": {
            "image/png": "[encoded data removed]",
            "text/plain": [
              "<Figure size 720x360 with 1 Axes>"
            ]
          },
          "metadata": {}
        }
      ]
    },
    {
      "cell_type": "code",
      "metadata": {
        "colab": {
          "base_uri": "https://localhost:8080/"
        },
        "id": "0fktRhJ6pav9",
        "outputId": "83bd31f0-97d2-4f15-ac30-445782249a66"
      },
      "source": [
        "X = df.drop('output', axis = 1)\n",
        "y = df.output\n",
        "\n",
        "from sklearn.pipeline import Pipeline\n",
        "pipe = Pipeline([('scaler', StandardScaler()), ('RandomForest', RandomForestClassifier(criterion='gini', max_depth=6, n_estimators=15,\n",
        "                       random_state=13))])\n",
        "\n",
        "pipe.fit(X,y)"
      ],
      "execution_count": null,
      "outputs": [
        {
          "output_type": "execute_result",
          "data": {
            "text/plain": [
              "Pipeline(memory=None,\n",
              "         steps=[('scaler',\n",
              "                 StandardScaler(copy=True, with_mean=True, with_std=True)),\n",
              "                ('RandomForest',\n",
              "                 RandomForestClassifier(bootstrap=True, ccp_alpha=0.0,\n",
              "                                        class_weight=None, criterion='gini',\n",
              "                                        max_depth=6, max_features='auto',\n",
              "                                        max_leaf_nodes=None, max_samples=None,\n",
              "                                        min_impurity_decrease=0.0,\n",
              "                                        min_impurity_split=None,\n",
              "                                        min_samples_leaf=1, min_samples_split=2,\n",
              "                                        min_weight_fraction_leaf=0.0,\n",
              "                                        n_estimators=15, n_jobs=None,\n",
              "                                        oob_score=False, random_state=13,\n",
              "                                        verbose=0, warm_start=False))],\n",
              "         verbose=False)"
            ]
          },
          "metadata": {},
          "execution_count": 44
        }
      ]
    },
    {
      "cell_type": "code",
      "metadata": {
        "colab": {
          "base_uri": "https://localhost:8080/"
        },
        "id": "J1bHmMxlp_Zi",
        "outputId": "09513ca9-1d4c-425e-8564-90bcc80984d0"
      },
      "source": [
        "test = np.array([41,0,1,130,204,0,0,172,0,1.4,2,0,2])\n",
        "pipe.predict(test.reshape(1,-1))"
      ],
      "execution_count": null,
      "outputs": [
        {
          "output_type": "execute_result",
          "data": {
            "text/plain": [
              "array([1])"
            ]
          },
          "metadata": {},
          "execution_count": 45
        }
      ]
    },
    {
      "cell_type": "code",
      "metadata": {
        "colab": {
          "base_uri": "https://localhost:8080/"
        },
        "id": "S-AzfxLtqEvi",
        "outputId": "e2129a42-68c5-4b99-9210-7aa967fd2e73"
      },
      "source": [
        "import joblib \n",
        "joblib.dump(pipe, 'model.sav')"
      ],
      "execution_count": null,
      "outputs": [
        {
          "output_type": "execute_result",
          "data": {
            "text/plain": [
              "['model.sav']"
            ]
          },
          "metadata": {},
          "execution_count": 46
        }
      ]
    },
    {
      "cell_type": "code",
      "metadata": {
        "id": "sWaNzXKDqG18"
      },
      "source": [
        "import json\n",
        "with open(\"heart_class_dictionary.json\",\"w\") as f:\n",
        "    f.write(json.dumps(class_dict))"
      ],
      "execution_count": null,
      "outputs": []
    }
  ]
}